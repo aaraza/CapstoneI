{
 "cells": [
  {
   "cell_type": "code",
   "execution_count": 58,
   "metadata": {
    "collapsed": false
   },
   "outputs": [],
   "source": [
    "import psycopg2\n",
    "import pandas as pd\n",
    "import nltk\n",
    "from nltk.corpus import stopwords\n",
    "from nltk import FreqDist\n",
    "import re\n",
    "from __future__ import division\n",
    "from nltk.tag import StanfordNERTagger"
   ]
  },
  {
   "cell_type": "code",
   "execution_count": 59,
   "metadata": {
    "collapsed": false
   },
   "outputs": [],
   "source": [
    "conn = psycopg2.connect(\"dbname='cap' user='postgres' host='ec2-35-163-99-253.us-west-2.compute.amazonaws.com' port=9000 password ='secret'\")\n",
    "df = pd.read_sql_query(\"SELECT * FROM articles limit 5\", conn)"
   ]
  },
  {
   "cell_type": "code",
   "execution_count": 60,
   "metadata": {
    "collapsed": false,
    "scrolled": true
   },
   "outputs": [
    {
     "data": {
      "text/html": [
       "<div>\n",
       "<table border=\"1\" class=\"dataframe\">\n",
       "  <thead>\n",
       "    <tr style=\"text-align: right;\">\n",
       "      <th></th>\n",
       "      <th>site</th>\n",
       "      <th>title</th>\n",
       "      <th>author</th>\n",
       "      <th>secondary_authors</th>\n",
       "      <th>published_on</th>\n",
       "      <th>accessed_on</th>\n",
       "      <th>url</th>\n",
       "      <th>body</th>\n",
       "      <th>html</th>\n",
       "      <th>newspaper_keywords</th>\n",
       "      <th>newspaper_summary</th>\n",
       "      <th>id</th>\n",
       "    </tr>\n",
       "  </thead>\n",
       "  <tbody>\n",
       "    <tr>\n",
       "      <th>0</th>\n",
       "      <td>USAToday</td>\n",
       "      <td>Seahawks looking at Colin Kaepernick, Robert G...</td>\n",
       "      <td>Michael Middlehurst-Schwartz</td>\n",
       "      <td>['P.M. Et May']</td>\n",
       "      <td>2017-05-15</td>\n",
       "      <td>2017-05-16 10:04:25.859536</td>\n",
       "      <td>http://www.usatoday.com/story/sports/nfl/2017/...</td>\n",
       "      <td>CLOSE Skip in Skip x Embed x Share Colin Kaepe...</td>\n",
       "      <td>&lt;div&gt;&lt;p class=\"js-video-placeholder video-plac...</td>\n",
       "      <td>{backup,iii,robert,team,x,seahawks,looking,tod...</td>\n",
       "      <td>CLOSE Skip in Skip x Embed x Share Colin Kaepe...</td>\n",
       "      <td>64766</td>\n",
       "    </tr>\n",
       "    <tr>\n",
       "      <th>1</th>\n",
       "      <td>USAToday</td>\n",
       "      <td>LaVar Ball shed light on telling Lonzo about h...</td>\n",
       "      <td>Andrew Joseph</td>\n",
       "      <td></td>\n",
       "      <td>2017-05-16</td>\n",
       "      <td>2017-05-16 10:04:32.185578</td>\n",
       "      <td>http://ftw.usatoday.com/2017/05/lavar-ball-tin...</td>\n",
       "      <td>When the UCLA Bruins were in the heart of Pac-...</td>\n",
       "      <td>&lt;div&gt;&lt;p&gt;When the UCLA Bruins were in the heart...</td>\n",
       "      <td>{telling,son,text,ucla,light,stroke,sons,ball,...</td>\n",
       "      <td>When the UCLA Bruins were in the heart of Pac-...</td>\n",
       "      <td>64767</td>\n",
       "    </tr>\n",
       "    <tr>\n",
       "      <th>2</th>\n",
       "      <td>USAToday</td>\n",
       "      <td>USC's tab for firing Lane Kiffin rose to $6 mi...</td>\n",
       "      <td>Steve Berkowitz</td>\n",
       "      <td>['Published P.M. Et May']</td>\n",
       "      <td>2017-05-15</td>\n",
       "      <td>2017-05-16 10:04:38.461586</td>\n",
       "      <td>http://www.usatoday.com/story/sports/ncaaf/201...</td>\n",
       "      <td>CLOSE Skip in Skip x Embed x Share The college...</td>\n",
       "      <td>&lt;div&gt;&lt;p class=\"js-video-placeholder video-plac...</td>\n",
       "      <td>{2015,firing,million,kiffin,school,total,retur...</td>\n",
       "      <td>(Photo: Matt Kartozian, USA TODAY Sports)The U...</td>\n",
       "      <td>64768</td>\n",
       "    </tr>\n",
       "    <tr>\n",
       "      <th>3</th>\n",
       "      <td>USAToday</td>\n",
       "      <td>'Dancing with the Stars:' Simone Biles goes ho...</td>\n",
       "      <td>Justin Kirkland</td>\n",
       "      <td>['Special To Usa Today', 'Published P.M. Et May']</td>\n",
       "      <td>2017-05-15</td>\n",
       "      <td>2017-05-16 10:04:41.895141</td>\n",
       "      <td>http://www.usatoday.com/story/life/entertainth...</td>\n",
       "      <td>There's something about Dancing with the Stars...</td>\n",
       "      <td>&lt;div&gt;&lt;p id=\"module-position-P9JlHC7Wa4I\" class...</td>\n",
       "      <td>{david,perfect,goes,dancing,rumba,ross,challen...</td>\n",
       "      <td>There's something about Dancing with the Stars...</td>\n",
       "      <td>64769</td>\n",
       "    </tr>\n",
       "    <tr>\n",
       "      <th>4</th>\n",
       "      <td>USAToday</td>\n",
       "      <td>Conservative media not sold on story of Trump ...</td>\n",
       "      <td>William Cummings</td>\n",
       "      <td>['Published P.M. Et May']</td>\n",
       "      <td>2017-05-15</td>\n",
       "      <td>2017-05-16 10:04:52.081025</td>\n",
       "      <td>http://www.usatoday.com/story/news/politics/on...</td>\n",
       "      <td>CLOSE Skip in Skip x Embed x Share A bombshell...</td>\n",
       "      <td>&lt;div&gt;&lt;p class=\"js-video-placeholder video-plac...</td>\n",
       "      <td>{president,sources,youre,report,info,headline,...</td>\n",
       "      <td>Just under an hour later, Fox News ran a banne...</td>\n",
       "      <td>64770</td>\n",
       "    </tr>\n",
       "  </tbody>\n",
       "</table>\n",
       "</div>"
      ],
      "text/plain": [
       "       site                                              title  \\\n",
       "0  USAToday  Seahawks looking at Colin Kaepernick, Robert G...   \n",
       "1  USAToday  LaVar Ball shed light on telling Lonzo about h...   \n",
       "2  USAToday  USC's tab for firing Lane Kiffin rose to $6 mi...   \n",
       "3  USAToday  'Dancing with the Stars:' Simone Biles goes ho...   \n",
       "4  USAToday  Conservative media not sold on story of Trump ...   \n",
       "\n",
       "                         author  \\\n",
       "0  Michael Middlehurst-Schwartz   \n",
       "1                 Andrew Joseph   \n",
       "2               Steve Berkowitz   \n",
       "3               Justin Kirkland   \n",
       "4              William Cummings   \n",
       "\n",
       "                                   secondary_authors published_on  \\\n",
       "0                                    ['P.M. Et May']   2017-05-15   \n",
       "1                                                      2017-05-16   \n",
       "2                          ['Published P.M. Et May']   2017-05-15   \n",
       "3  ['Special To Usa Today', 'Published P.M. Et May']   2017-05-15   \n",
       "4                          ['Published P.M. Et May']   2017-05-15   \n",
       "\n",
       "                 accessed_on  \\\n",
       "0 2017-05-16 10:04:25.859536   \n",
       "1 2017-05-16 10:04:32.185578   \n",
       "2 2017-05-16 10:04:38.461586   \n",
       "3 2017-05-16 10:04:41.895141   \n",
       "4 2017-05-16 10:04:52.081025   \n",
       "\n",
       "                                                 url  \\\n",
       "0  http://www.usatoday.com/story/sports/nfl/2017/...   \n",
       "1  http://ftw.usatoday.com/2017/05/lavar-ball-tin...   \n",
       "2  http://www.usatoday.com/story/sports/ncaaf/201...   \n",
       "3  http://www.usatoday.com/story/life/entertainth...   \n",
       "4  http://www.usatoday.com/story/news/politics/on...   \n",
       "\n",
       "                                                body  \\\n",
       "0  CLOSE Skip in Skip x Embed x Share Colin Kaepe...   \n",
       "1  When the UCLA Bruins were in the heart of Pac-...   \n",
       "2  CLOSE Skip in Skip x Embed x Share The college...   \n",
       "3  There's something about Dancing with the Stars...   \n",
       "4  CLOSE Skip in Skip x Embed x Share A bombshell...   \n",
       "\n",
       "                                                html  \\\n",
       "0  <div><p class=\"js-video-placeholder video-plac...   \n",
       "1  <div><p>When the UCLA Bruins were in the heart...   \n",
       "2  <div><p class=\"js-video-placeholder video-plac...   \n",
       "3  <div><p id=\"module-position-P9JlHC7Wa4I\" class...   \n",
       "4  <div><p class=\"js-video-placeholder video-plac...   \n",
       "\n",
       "                                  newspaper_keywords  \\\n",
       "0  {backup,iii,robert,team,x,seahawks,looking,tod...   \n",
       "1  {telling,son,text,ucla,light,stroke,sons,ball,...   \n",
       "2  {2015,firing,million,kiffin,school,total,retur...   \n",
       "3  {david,perfect,goes,dancing,rumba,ross,challen...   \n",
       "4  {president,sources,youre,report,info,headline,...   \n",
       "\n",
       "                                   newspaper_summary     id  \n",
       "0  CLOSE Skip in Skip x Embed x Share Colin Kaepe...  64766  \n",
       "1  When the UCLA Bruins were in the heart of Pac-...  64767  \n",
       "2  (Photo: Matt Kartozian, USA TODAY Sports)The U...  64768  \n",
       "3  There's something about Dancing with the Stars...  64769  \n",
       "4  Just under an hour later, Fox News ran a banne...  64770  "
      ]
     },
     "execution_count": 60,
     "metadata": {},
     "output_type": "execute_result"
    }
   ],
   "source": [
    "df"
   ]
  },
  {
   "cell_type": "markdown",
   "metadata": {},
   "source": [
    "#### Tokenize the article body"
   ]
  },
  {
   "cell_type": "code",
   "execution_count": 61,
   "metadata": {
    "collapsed": false
   },
   "outputs": [],
   "source": [
    "tokenized_body = []\n",
    "for body in df['body']:\n",
    "    body = body.decode('utf-8')\n",
    "    tokens = nltk.word_tokenize(body)\n",
    "    tokenized_body.append(tokens)"
   ]
  },
  {
   "cell_type": "code",
   "execution_count": 62,
   "metadata": {
    "collapsed": true
   },
   "outputs": [],
   "source": [
    "se = pd.Series(tokenized_body)\n",
    "df['tokenized_body'] = se.values"
   ]
  },
  {
   "cell_type": "markdown",
   "metadata": {},
   "source": [
    "#### Simple word count"
   ]
  },
  {
   "cell_type": "code",
   "execution_count": 63,
   "metadata": {
    "collapsed": true
   },
   "outputs": [],
   "source": [
    "word_count = []\n",
    "for body in df['tokenized_body']:\n",
    "    word_count.append(len(body))"
   ]
  },
  {
   "cell_type": "code",
   "execution_count": 64,
   "metadata": {
    "collapsed": true
   },
   "outputs": [],
   "source": [
    "se = pd.Series(word_count)\n",
    "df['word_count'] = se.values"
   ]
  },
  {
   "cell_type": "markdown",
   "metadata": {},
   "source": [
    "#### Stopword Removal"
   ]
  },
  {
   "cell_type": "code",
   "execution_count": 65,
   "metadata": {
    "collapsed": false
   },
   "outputs": [],
   "source": [
    "stop_words = stopwords.words('english')\n",
    "stop_words = stop_words + [',', '.', '!', '?', '\"','\\'', '/', '\\\\', '-', '--', '—', '(', ')', '[', ']', '\\'s', '\\'t', '\\'ve', '\\'d', '\\'ll', '\\'re']\n",
    "stop_words = set(stop_words) # making this a set increases performance for large documents"
   ]
  },
  {
   "cell_type": "code",
   "execution_count": 66,
   "metadata": {
    "collapsed": false
   },
   "outputs": [],
   "source": [
    "stopworded_body = []\n",
    "for body in df['tokenized_body']:\n",
    "    stopworded_body.append([w.lower() for w in body if w not in stop_words])"
   ]
  },
  {
   "cell_type": "code",
   "execution_count": 67,
   "metadata": {
    "collapsed": false
   },
   "outputs": [],
   "source": [
    "se = pd.Series(stopworded_body)\n",
    "df['stopworded_body'] = se.values"
   ]
  },
  {
   "cell_type": "markdown",
   "metadata": {},
   "source": [
    "#### Lemmatization: Get the root words for the tokenized and stopworded body text\n"
   ]
  },
  {
   "cell_type": "code",
   "execution_count": 68,
   "metadata": {
    "collapsed": false
   },
   "outputs": [],
   "source": [
    "wnl = nltk.WordNetLemmatizer()\n",
    "lemmatized_words = []\n",
    "lemmatized_body = []\n",
    "for body in df['stopworded_body']:\n",
    "    # We need to tag words with their parts of speech before the WordNet lemmatizer will work properly\n",
    "    pos_tagged_body = nltk.pos_tag(body)\n",
    "    lemmatized_words = []\n",
    "    for word, tag in pos_tagged_body:\n",
    "        wntag = tag[0].lower()\n",
    "        wntag = wntag if wntag in ['a', 'r', 'n', 'v'] else None\n",
    "        if not wntag:\n",
    "            lemma = word\n",
    "        else:\n",
    "            lemma = wnl.lemmatize(word, wntag)\n",
    "        lemmatized_words.append(lemma)\n",
    "    lemmatized_body.append(lemmatized_words)"
   ]
  },
  {
   "cell_type": "code",
   "execution_count": 69,
   "metadata": {
    "collapsed": false
   },
   "outputs": [],
   "source": [
    "se = pd.Series(lemmatized_body)\n",
    "df['lemmatized_body'] = se.values"
   ]
  },
  {
   "cell_type": "markdown",
   "metadata": {},
   "source": [
    "#### Bag of Words/Frequency Distribution: Get word count from lemmatized text"
   ]
  },
  {
   "cell_type": "code",
   "execution_count": 70,
   "metadata": {
    "collapsed": false
   },
   "outputs": [],
   "source": [
    "word_bag = []\n",
    "for body in df['lemmatized_body']:\n",
    "    fdist = FreqDist(body)\n",
    "    # FreqDist returns a special nltk.probability.FreqDist type\n",
    "    # This is a list of tuples\n",
    "    # Here is an example of how to access the elements for future reference\n",
    "#     print(fdist.most_common())\n",
    "    # Access an individual tuple\n",
    "#     print(fdist.most_common()[0])\n",
    "    # Access the word from the tuple\n",
    "#     print(fdist.most_common()[0][0])\n",
    "    # Access the count from the tuple\n",
    "#     print(fdist.most_common()[0][1])\n",
    "    # Append to list as ordered frequency distribution\n",
    "    word_bag.append(fdist.most_common())\n"
   ]
  },
  {
   "cell_type": "code",
   "execution_count": 71,
   "metadata": {
    "collapsed": true
   },
   "outputs": [],
   "source": [
    "se = pd.Series(word_bag)\n",
    "df['word_bag'] = se.values"
   ]
  },
  {
   "cell_type": "markdown",
   "metadata": {},
   "source": [
    "#### Named Entity Extraction using StanfordNLP Classification Model"
   ]
  },
  {
   "cell_type": "markdown",
   "metadata": {},
   "source": [
    "###### Stanford NLP named entity extractor requires that you download the jar from https://nlp.stanford.edu/software/CRF-NER.shtml#Download, unzip and extract english.all.3class.distsim.crf.ser.gz and stanford-ner.jar, then provide their file paths to StanfordNERTagger below and you may need to install java8 on ubuntu: https://tecadmin.net/install-oracle-java-8-ubuntu-via-ppa/"
   ]
  },
  {
   "cell_type": "code",
   "execution_count": 72,
   "metadata": {
    "collapsed": true
   },
   "outputs": [],
   "source": [
    "st = StanfordNERTagger('/media/justin/Data/Google Drive/Assignments and Projects/Machine Learning/NLP/english.all.3class.distsim.crf.ser.gz',\n",
    "\t\t\t\t\t   '/media/justin/Data/Google Drive/Assignments and Projects/Machine Learning/NLP/stanford-ner.jar',\n",
    "\t\t\t\t\t   encoding='utf-8')"
   ]
  },
  {
   "cell_type": "code",
   "execution_count": 73,
   "metadata": {
    "collapsed": false
   },
   "outputs": [],
   "source": [
    "classified_texts = []\n",
    "for body in df['tokenized_body']:\n",
    "    classified_texts.append(st.tag(body))\n",
    "\n",
    "# print(classified_text)"
   ]
  },
  {
   "cell_type": "markdown",
   "metadata": {},
   "source": [
    "#### Now, if we want to parse the list of tuples returned by the standford classifier into a more easily usable list form, we can take that output, convert it to the standard IOB tag format with stanfordNE2BIO, then parse that into a tree, and traverse the tree to rearrange into a list"
   ]
  },
  {
   "cell_type": "code",
   "execution_count": 74,
   "metadata": {
    "collapsed": false,
    "scrolled": false
   },
   "outputs": [],
   "source": [
    "from nltk import pos_tag\n",
    "from nltk.chunk import conlltags2tree\n",
    "from nltk.tree import Tree\n",
    "\n",
    "def stanfordNE2BIO(tagged_sent):\n",
    "    bio_tagged_sent = []\n",
    "    prev_tag = \"O\"\n",
    "    for token, tag in tagged_sent:\n",
    "        if tag == \"O\": #O\n",
    "            bio_tagged_sent.append((token, tag))\n",
    "            prev_tag = tag\n",
    "            continue\n",
    "        if tag != \"O\" and prev_tag == \"O\": # Begin NE\n",
    "            bio_tagged_sent.append((token, \"B-\"+tag))\n",
    "            prev_tag = tag\n",
    "        elif prev_tag != \"O\" and prev_tag == tag: # Inside NE\n",
    "            bio_tagged_sent.append((token, \"I-\"+tag))\n",
    "            prev_tag = tag\n",
    "        elif prev_tag != \"O\" and prev_tag != tag: # Adjacent NE\n",
    "            bio_tagged_sent.append((token, \"B-\"+tag))\n",
    "            prev_tag = tag\n",
    "\n",
    "    return bio_tagged_sent"
   ]
  },
  {
   "cell_type": "markdown",
   "metadata": {},
   "source": [
    "#### Now convert the IOB tagged tuples into a tree (this can be called with the original stanfordNERTagger output, skipping the explicit call to convert to IOB format)"
   ]
  },
  {
   "cell_type": "code",
   "execution_count": 75,
   "metadata": {
    "collapsed": true
   },
   "outputs": [],
   "source": [
    "def stanfordNE2tree(ne_tagged_sent):\n",
    "    bio_tagged_sent = stanfordNE2BIO(ne_tagged_sent)\n",
    "    sent_tokens, sent_ne_tags = zip(*bio_tagged_sent)\n",
    "    sent_pos_tags = [pos for token, pos in pos_tag(sent_tokens)]\n",
    "\n",
    "    sent_conlltags = [(token, pos, ne) for token, pos, ne in zip(sent_tokens, sent_pos_tags, sent_ne_tags)]\n",
    "    ne_tree = conlltags2tree(sent_conlltags)\n",
    "    return ne_tree\n"
   ]
  },
  {
   "cell_type": "code",
   "execution_count": 76,
   "metadata": {
    "collapsed": false
   },
   "outputs": [],
   "source": [
    "ne_trees = []\n",
    "for text in classified_texts:\n",
    "    ne_trees.append(stanfordNE2tree(text))"
   ]
  },
  {
   "cell_type": "markdown",
   "metadata": {},
   "source": [
    "#### Finally, join the leaves into a formated list of tuples"
   ]
  },
  {
   "cell_type": "code",
   "execution_count": 77,
   "metadata": {
    "collapsed": true
   },
   "outputs": [],
   "source": [
    "ne_in_sent = []\n",
    "ne_in_sents = []\n",
    "for tree in ne_trees:\n",
    "    ne_in_sent = []\n",
    "    for subtree in tree:\n",
    "        if type(subtree) == Tree: # If subtree is a noun chunk, i.e. NE != \"O\"\n",
    "            ne_label = subtree.label()\n",
    "            ne_string = \" \".join([token for token, pos in subtree.leaves()])\n",
    "            ne_in_sent.append((ne_string, ne_label))\n",
    "    ne_in_sents.append(ne_in_sent)"
   ]
  },
  {
   "cell_type": "code",
   "execution_count": 78,
   "metadata": {
    "collapsed": true
   },
   "outputs": [],
   "source": [
    "se = pd.Series(ne_in_sents)\n",
    "df['named_entities'] = se.values"
   ]
  },
  {
   "cell_type": "markdown",
   "metadata": {},
   "source": [
    "#### Lexical diversity is a measure of the complexity, or sophistication, of a text. A higher number means the text has a richer vocabulary and less repetition of words. If the calculation returns 65.23, for example, that means 65.23% of the total words are distinct."
   ]
  },
  {
   "cell_type": "code",
   "execution_count": 79,
   "metadata": {
    "collapsed": false
   },
   "outputs": [],
   "source": [
    "def lexical_diversity(text):\n",
    "    return len(set(text)) / len(text) * 100"
   ]
  },
  {
   "cell_type": "code",
   "execution_count": 80,
   "metadata": {
    "collapsed": false,
    "scrolled": true
   },
   "outputs": [
    {
     "name": "stdout",
     "output_type": "stream",
     "text": [
      "lexical diversity: 75.0\n",
      "lexical diversity: 68.9119170984\n",
      "lexical diversity: 59.3360995851\n",
      "lexical diversity: 68.3918669131\n",
      "lexical diversity: 55.6541019956\n"
     ]
    }
   ],
   "source": [
    "lex_div = []\n",
    "for body in df['stopworded_body']:\n",
    "    lex_div.append(lexical_diversity(body))\n",
    "    print(\"lexical diversity: \" + str(lexical_diversity(body)))"
   ]
  },
  {
   "cell_type": "code",
   "execution_count": 81,
   "metadata": {
    "collapsed": true
   },
   "outputs": [],
   "source": [
    "se = pd.Series(lex_div)\n",
    "df['lexical_diversity'] = se.values"
   ]
  },
  {
   "cell_type": "code",
   "execution_count": 82,
   "metadata": {
    "collapsed": false,
    "scrolled": true
   },
   "outputs": [
    {
     "data": {
      "text/html": [
       "<div>\n",
       "<table border=\"1\" class=\"dataframe\">\n",
       "  <thead>\n",
       "    <tr style=\"text-align: right;\">\n",
       "      <th></th>\n",
       "      <th>site</th>\n",
       "      <th>title</th>\n",
       "      <th>author</th>\n",
       "      <th>secondary_authors</th>\n",
       "      <th>published_on</th>\n",
       "      <th>accessed_on</th>\n",
       "      <th>url</th>\n",
       "      <th>body</th>\n",
       "      <th>html</th>\n",
       "      <th>newspaper_keywords</th>\n",
       "      <th>newspaper_summary</th>\n",
       "      <th>id</th>\n",
       "      <th>tokenized_body</th>\n",
       "      <th>word_count</th>\n",
       "      <th>stopworded_body</th>\n",
       "      <th>lemmatized_body</th>\n",
       "      <th>word_bag</th>\n",
       "      <th>named_entities</th>\n",
       "      <th>lexical_diversity</th>\n",
       "    </tr>\n",
       "  </thead>\n",
       "  <tbody>\n",
       "    <tr>\n",
       "      <th>0</th>\n",
       "      <td>USAToday</td>\n",
       "      <td>Seahawks looking at Colin Kaepernick, Robert G...</td>\n",
       "      <td>Michael Middlehurst-Schwartz</td>\n",
       "      <td>['P.M. Et May']</td>\n",
       "      <td>2017-05-15</td>\n",
       "      <td>2017-05-16 10:04:25.859536</td>\n",
       "      <td>http://www.usatoday.com/story/sports/nfl/2017/...</td>\n",
       "      <td>CLOSE Skip in Skip x Embed x Share Colin Kaepe...</td>\n",
       "      <td>&lt;div&gt;&lt;p class=\"js-video-placeholder video-plac...</td>\n",
       "      <td>{backup,iii,robert,team,x,seahawks,looking,tod...</td>\n",
       "      <td>CLOSE Skip in Skip x Embed x Share Colin Kaepe...</td>\n",
       "      <td>64766</td>\n",
       "      <td>[CLOSE, Skip, in, Skip, x, Embed, x, Share, Co...</td>\n",
       "      <td>376</td>\n",
       "      <td>[close, skip, skip, x, embed, x, share, colin,...</td>\n",
       "      <td>[close, skip, skip, x, embed, x, share, colin,...</td>\n",
       "      <td>[(kaepernick, 6), (seahawks, 6), (quarterback,...</td>\n",
       "      <td>[(Colin Kaepernick, PERSON), (NFL, ORGANIZATIO...</td>\n",
       "      <td>75.000000</td>\n",
       "    </tr>\n",
       "    <tr>\n",
       "      <th>1</th>\n",
       "      <td>USAToday</td>\n",
       "      <td>LaVar Ball shed light on telling Lonzo about h...</td>\n",
       "      <td>Andrew Joseph</td>\n",
       "      <td></td>\n",
       "      <td>2017-05-16</td>\n",
       "      <td>2017-05-16 10:04:32.185578</td>\n",
       "      <td>http://ftw.usatoday.com/2017/05/lavar-ball-tin...</td>\n",
       "      <td>When the UCLA Bruins were in the heart of Pac-...</td>\n",
       "      <td>&lt;div&gt;&lt;p&gt;When the UCLA Bruins were in the heart...</td>\n",
       "      <td>{telling,son,text,ucla,light,stroke,sons,ball,...</td>\n",
       "      <td>When the UCLA Bruins were in the heart of Pac-...</td>\n",
       "      <td>64767</td>\n",
       "      <td>[When, the, UCLA, Bruins, were, in, the, heart...</td>\n",
       "      <td>375</td>\n",
       "      <td>[when, ucla, bruins, heart, pac-12, play, lonz...</td>\n",
       "      <td>[when, ucla, bruin, heart, pac-12, play, lonzo...</td>\n",
       "      <td>[(lonzo, 8), (lavar, 5), (tell, 5), (text, 4),...</td>\n",
       "      <td>[(UCLA Bruins, ORGANIZATION), (Lonzo Ball, PER...</td>\n",
       "      <td>68.911917</td>\n",
       "    </tr>\n",
       "    <tr>\n",
       "      <th>2</th>\n",
       "      <td>USAToday</td>\n",
       "      <td>USC's tab for firing Lane Kiffin rose to $6 mi...</td>\n",
       "      <td>Steve Berkowitz</td>\n",
       "      <td>['Published P.M. Et May']</td>\n",
       "      <td>2017-05-15</td>\n",
       "      <td>2017-05-16 10:04:38.461586</td>\n",
       "      <td>http://www.usatoday.com/story/sports/ncaaf/201...</td>\n",
       "      <td>CLOSE Skip in Skip x Embed x Share The college...</td>\n",
       "      <td>&lt;div&gt;&lt;p class=\"js-video-placeholder video-plac...</td>\n",
       "      <td>{2015,firing,million,kiffin,school,total,retur...</td>\n",
       "      <td>(Photo: Matt Kartozian, USA TODAY Sports)The U...</td>\n",
       "      <td>64768</td>\n",
       "      <td>[CLOSE, Skip, in, Skip, x, Embed, x, Share, Th...</td>\n",
       "      <td>820</td>\n",
       "      <td>[close, skip, skip, x, embed, x, share, the, c...</td>\n",
       "      <td>[close, skip, skip, x, embed, x, share, the, c...</td>\n",
       "      <td>[($, 19), (year, 13), (million, 12), (pay, 11)...</td>\n",
       "      <td>[(USA, LOCATION), (USC Trojans, ORGANIZATION),...</td>\n",
       "      <td>59.336100</td>\n",
       "    </tr>\n",
       "    <tr>\n",
       "      <th>3</th>\n",
       "      <td>USAToday</td>\n",
       "      <td>'Dancing with the Stars:' Simone Biles goes ho...</td>\n",
       "      <td>Justin Kirkland</td>\n",
       "      <td>['Special To Usa Today', 'Published P.M. Et May']</td>\n",
       "      <td>2017-05-15</td>\n",
       "      <td>2017-05-16 10:04:41.895141</td>\n",
       "      <td>http://www.usatoday.com/story/life/entertainth...</td>\n",
       "      <td>There's something about Dancing with the Stars...</td>\n",
       "      <td>&lt;div&gt;&lt;p id=\"module-position-P9JlHC7Wa4I\" class...</td>\n",
       "      <td>{david,perfect,goes,dancing,rumba,ross,challen...</td>\n",
       "      <td>There's something about Dancing with the Stars...</td>\n",
       "      <td>64769</td>\n",
       "      <td>[There, 's, something, about, Dancing, with, t...</td>\n",
       "      <td>923</td>\n",
       "      <td>[there, something, dancing, stars, semi-finals...</td>\n",
       "      <td>[there, something, dance, star, semi-finals, w...</td>\n",
       "      <td>[(:, 14), (simone, 9), (dance, 8), (david, 8),...</td>\n",
       "      <td>[(David Ross, PERSON), (Chmerkovskiy, PERSON),...</td>\n",
       "      <td>68.391867</td>\n",
       "    </tr>\n",
       "    <tr>\n",
       "      <th>4</th>\n",
       "      <td>USAToday</td>\n",
       "      <td>Conservative media not sold on story of Trump ...</td>\n",
       "      <td>William Cummings</td>\n",
       "      <td>['Published P.M. Et May']</td>\n",
       "      <td>2017-05-15</td>\n",
       "      <td>2017-05-16 10:04:52.081025</td>\n",
       "      <td>http://www.usatoday.com/story/news/politics/on...</td>\n",
       "      <td>CLOSE Skip in Skip x Embed x Share A bombshell...</td>\n",
       "      <td>&lt;div&gt;&lt;p class=\"js-video-placeholder video-plac...</td>\n",
       "      <td>{president,sources,youre,report,info,headline,...</td>\n",
       "      <td>Just under an hour later, Fox News ran a banne...</td>\n",
       "      <td>64770</td>\n",
       "      <td>[CLOSE, Skip, in, Skip, x, Embed, x, Share, A,...</td>\n",
       "      <td>708</td>\n",
       "      <td>[close, skip, skip, x, embed, x, share, a, bom...</td>\n",
       "      <td>[close, skip, skip, x, embed, x, share, a, bom...</td>\n",
       "      <td>[(trump, 14), (:, 13), (``, 13), ('', 13), (st...</td>\n",
       "      <td>[(Washington Post, ORGANIZATION), (USA, LOCATI...</td>\n",
       "      <td>55.654102</td>\n",
       "    </tr>\n",
       "  </tbody>\n",
       "</table>\n",
       "</div>"
      ],
      "text/plain": [
       "       site                                              title  \\\n",
       "0  USAToday  Seahawks looking at Colin Kaepernick, Robert G...   \n",
       "1  USAToday  LaVar Ball shed light on telling Lonzo about h...   \n",
       "2  USAToday  USC's tab for firing Lane Kiffin rose to $6 mi...   \n",
       "3  USAToday  'Dancing with the Stars:' Simone Biles goes ho...   \n",
       "4  USAToday  Conservative media not sold on story of Trump ...   \n",
       "\n",
       "                         author  \\\n",
       "0  Michael Middlehurst-Schwartz   \n",
       "1                 Andrew Joseph   \n",
       "2               Steve Berkowitz   \n",
       "3               Justin Kirkland   \n",
       "4              William Cummings   \n",
       "\n",
       "                                   secondary_authors published_on  \\\n",
       "0                                    ['P.M. Et May']   2017-05-15   \n",
       "1                                                      2017-05-16   \n",
       "2                          ['Published P.M. Et May']   2017-05-15   \n",
       "3  ['Special To Usa Today', 'Published P.M. Et May']   2017-05-15   \n",
       "4                          ['Published P.M. Et May']   2017-05-15   \n",
       "\n",
       "                 accessed_on  \\\n",
       "0 2017-05-16 10:04:25.859536   \n",
       "1 2017-05-16 10:04:32.185578   \n",
       "2 2017-05-16 10:04:38.461586   \n",
       "3 2017-05-16 10:04:41.895141   \n",
       "4 2017-05-16 10:04:52.081025   \n",
       "\n",
       "                                                 url  \\\n",
       "0  http://www.usatoday.com/story/sports/nfl/2017/...   \n",
       "1  http://ftw.usatoday.com/2017/05/lavar-ball-tin...   \n",
       "2  http://www.usatoday.com/story/sports/ncaaf/201...   \n",
       "3  http://www.usatoday.com/story/life/entertainth...   \n",
       "4  http://www.usatoday.com/story/news/politics/on...   \n",
       "\n",
       "                                                body  \\\n",
       "0  CLOSE Skip in Skip x Embed x Share Colin Kaepe...   \n",
       "1  When the UCLA Bruins were in the heart of Pac-...   \n",
       "2  CLOSE Skip in Skip x Embed x Share The college...   \n",
       "3  There's something about Dancing with the Stars...   \n",
       "4  CLOSE Skip in Skip x Embed x Share A bombshell...   \n",
       "\n",
       "                                                html  \\\n",
       "0  <div><p class=\"js-video-placeholder video-plac...   \n",
       "1  <div><p>When the UCLA Bruins were in the heart...   \n",
       "2  <div><p class=\"js-video-placeholder video-plac...   \n",
       "3  <div><p id=\"module-position-P9JlHC7Wa4I\" class...   \n",
       "4  <div><p class=\"js-video-placeholder video-plac...   \n",
       "\n",
       "                                  newspaper_keywords  \\\n",
       "0  {backup,iii,robert,team,x,seahawks,looking,tod...   \n",
       "1  {telling,son,text,ucla,light,stroke,sons,ball,...   \n",
       "2  {2015,firing,million,kiffin,school,total,retur...   \n",
       "3  {david,perfect,goes,dancing,rumba,ross,challen...   \n",
       "4  {president,sources,youre,report,info,headline,...   \n",
       "\n",
       "                                   newspaper_summary     id  \\\n",
       "0  CLOSE Skip in Skip x Embed x Share Colin Kaepe...  64766   \n",
       "1  When the UCLA Bruins were in the heart of Pac-...  64767   \n",
       "2  (Photo: Matt Kartozian, USA TODAY Sports)The U...  64768   \n",
       "3  There's something about Dancing with the Stars...  64769   \n",
       "4  Just under an hour later, Fox News ran a banne...  64770   \n",
       "\n",
       "                                      tokenized_body  word_count  \\\n",
       "0  [CLOSE, Skip, in, Skip, x, Embed, x, Share, Co...         376   \n",
       "1  [When, the, UCLA, Bruins, were, in, the, heart...         375   \n",
       "2  [CLOSE, Skip, in, Skip, x, Embed, x, Share, Th...         820   \n",
       "3  [There, 's, something, about, Dancing, with, t...         923   \n",
       "4  [CLOSE, Skip, in, Skip, x, Embed, x, Share, A,...         708   \n",
       "\n",
       "                                     stopworded_body  \\\n",
       "0  [close, skip, skip, x, embed, x, share, colin,...   \n",
       "1  [when, ucla, bruins, heart, pac-12, play, lonz...   \n",
       "2  [close, skip, skip, x, embed, x, share, the, c...   \n",
       "3  [there, something, dancing, stars, semi-finals...   \n",
       "4  [close, skip, skip, x, embed, x, share, a, bom...   \n",
       "\n",
       "                                     lemmatized_body  \\\n",
       "0  [close, skip, skip, x, embed, x, share, colin,...   \n",
       "1  [when, ucla, bruin, heart, pac-12, play, lonzo...   \n",
       "2  [close, skip, skip, x, embed, x, share, the, c...   \n",
       "3  [there, something, dance, star, semi-finals, w...   \n",
       "4  [close, skip, skip, x, embed, x, share, a, bom...   \n",
       "\n",
       "                                            word_bag  \\\n",
       "0  [(kaepernick, 6), (seahawks, 6), (quarterback,...   \n",
       "1  [(lonzo, 8), (lavar, 5), (tell, 5), (text, 4),...   \n",
       "2  [($, 19), (year, 13), (million, 12), (pay, 11)...   \n",
       "3  [(:, 14), (simone, 9), (dance, 8), (david, 8),...   \n",
       "4  [(trump, 14), (:, 13), (``, 13), ('', 13), (st...   \n",
       "\n",
       "                                      named_entities  lexical_diversity  \n",
       "0  [(Colin Kaepernick, PERSON), (NFL, ORGANIZATIO...          75.000000  \n",
       "1  [(UCLA Bruins, ORGANIZATION), (Lonzo Ball, PER...          68.911917  \n",
       "2  [(USA, LOCATION), (USC Trojans, ORGANIZATION),...          59.336100  \n",
       "3  [(David Ross, PERSON), (Chmerkovskiy, PERSON),...          68.391867  \n",
       "4  [(Washington Post, ORGANIZATION), (USA, LOCATI...          55.654102  "
      ]
     },
     "execution_count": 82,
     "metadata": {},
     "output_type": "execute_result"
    }
   ],
   "source": [
    "df"
   ]
  },
  {
   "cell_type": "markdown",
   "metadata": {},
   "source": [
    "#### TF-IDF"
   ]
  },
  {
   "cell_type": "code",
   "execution_count": null,
   "metadata": {
    "collapsed": true
   },
   "outputs": [],
   "source": []
  }
 ],
 "metadata": {
  "kernelspec": {
   "display_name": "Python 2",
   "language": "python",
   "name": "python2"
  },
  "language_info": {
   "codemirror_mode": {
    "name": "ipython",
    "version": 2
   },
   "file_extension": ".py",
   "mimetype": "text/x-python",
   "name": "python",
   "nbconvert_exporter": "python",
   "pygments_lexer": "ipython2",
   "version": "2.7.13"
  }
 },
 "nbformat": 4,
 "nbformat_minor": 0
}
