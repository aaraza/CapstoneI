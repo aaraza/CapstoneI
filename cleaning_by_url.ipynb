{
 "cells": [
  {
   "cell_type": "markdown",
   "metadata": {},
   "source": [
    "# Data Cleaning Based on URL \n",
    "\n",
    "This notebook was mostly for testing and looking at why articles of other languages ended up in. Most of them seem to have URLs that have endings that indicate this, so at the bottom there is a python function which can verify if a URL should be inserted into the datawarehouse. A simple True False check should account for most of the foreign language articles\n",
    "\n",
    "## TODO \n",
    "\n",
    "Still need to explore ways to clean the body articles "
   ]
  },
  {
   "cell_type": "code",
   "execution_count": 1,
   "metadata": {
    "collapsed": true
   },
   "outputs": [],
   "source": [
    "import pandas as pd"
   ]
  },
  {
   "cell_type": "code",
   "execution_count": 2,
   "metadata": {},
   "outputs": [],
   "source": [
    "data = pd.read_csv('/tmp/article_data.csv')\n",
    "#obviously here we would do a batch of articles from the database and we can push that to a dataframe as well\n",
    "#or we can rework this a bit to loop over database query results instead"
   ]
  },
  {
   "cell_type": "code",
   "execution_count": 3,
   "metadata": {},
   "outputs": [
    {
     "data": {
      "text/plain": [
       "859      ADVERTISEMENT  홍준표 자유한국당 후보는 지난 1996년, 제15대 국회...\n",
       "860      ADVERTISEMENT  홍준표 자유한국당 후보는 지난 1996년, 제15대 국회...\n",
       "875      게시됨: 2017년 05월 02일 12시 28분 KST  게시됨: 2017년 05월...\n",
       "877      박주민 더불어민주당 의원이 1일 서울 은평구 응암역에서 진행한 유세는 이런 문장으로...\n",
       "878      U.S. President Donald Trump speaks during an i...\n",
       "883      게시됨: 2017년 05월 02일 15시 47분 KST  게시됨: 2017년 05월...\n",
       "885      게시됨: 2017년 05월 02일 15시 47분 KST  게시됨: 2017년 05월...\n",
       "900      게시됨: 2017년 05월 02일 17시 54분 KST  게시됨: 2017년 05월...\n",
       "907      ADVERTISEMENT  추혜선 정의당 의원(심상정 캠프 수석대변인)은 미디어 전...\n",
       "908      ADVERTISEMENT  유승민 바른정당 대통령 후보는 2일 같은 당 소속 의원 ...\n",
       "911      게시됨: 2017년 05월 02일 11시 41분 KST  게시됨: 2017년 05월...\n",
       "914      박주민 더불어민주당 의원이 1일 서울 은평구 응암역에서 진행한 유세는 이런 문장으로...\n",
       "917      Saudi Arabia's King Salman bin Abdulaziz Al Sa...\n",
       "919      게시됨: 2017년 05월 02일 12시 32분 KST  게시됨: 2017년 05월...\n",
       "922      게시됨: 2017년 05월 02일 16시 15분 KST  게시됨: 2017년 05월...\n",
       "929      게시됨: 2017년 05월 02일 17시 54분 KST  게시됨: 2017년 05월...\n",
       "931      게시됨: 2017년 05월 02일 15시 47분 KST  게시됨: 2017년 05월...\n",
       "933      게시됨: 2017년 05월 02일 16시 12분 KST  게시됨: 2017년 05월...\n",
       "934      게시됨: 2017년 05월 02일 11시 38분 KST  게시됨: 2017년 05월...\n",
       "947      게시됨: 2017년 05월 02일 12시 32분 KST  게시됨: 2017년 05월...\n",
       "951      게시됨: 2017년 05월 02일 17시 27분 KST  게시됨: 2017년 05월...\n",
       "976      게시됨: 2017년 05월 02일 12시 41분 KST  게시됨: 2017년 05월...\n",
       "983      ADVERTISEMENT  심상정 정의당 대통령 후보 측 노회찬 상임선거대책위원장은...\n",
       "1002     ADVERTISEMENT  홍준표 자유한국당 후보는 지난 1996년, 제15대 국회...\n",
       "1004     A woman walks past the new official posters fo...\n",
       "1014     게시됨: 2017년 05월 01일 22시 39분 KST  게시됨: 2017년 05월...\n",
       "1021     게시됨: 2017년 05월 02일 17시 27분 KST  게시됨: 2017년 05월...\n",
       "1025     게시됨: 2017년 05월 02일 17시 28분 KST  게시됨: 2017년 05월...\n",
       "1051     게시됨: 2017년 05월 02일 14시 35분 KST  게시됨: 2017년 05월...\n",
       "1053     Saudi Arabia's King Salman bin Abdulaziz Al Sa...\n",
       "                               ...                        \n",
       "17910    ADVERTISEMENT  그룹 남녀공학 열혈강호 출신 배우 차주혁(본명 박주혁)이...\n",
       "17924    게시됨: 2017년 05월 11일 19시 40분 KST  게시됨: 2017년 05월...\n",
       "18108    게시됨: 2017년 05월 15일 15시 58분 KST  게시됨: 2017년 05월...\n",
       "19468    ADVERTISEMENT  위키리크스가 트럼프가 지난 1월 제임스 코미 전 FBI ...\n",
       "19479    게시됨: 2017년 05월 13일 15시 17분 KST  게시됨: 2017년 05월...\n",
       "19492    게시됨: 2017년 05월 13일 15시 17분 KST  게시됨: 2017년 05월...\n",
       "19494    게시됨: 2017년 05월 13일 17시 10분 KST  게시됨: 2017년 05월...\n",
       "19495    게시됨: 2017년 05월 13일 15시 29분 KST  게시됨: 2017년 05월...\n",
       "19499    게시됨: 2017년 05월 13일 11시 36분 KST  게시됨: 2017년 05월...\n",
       "19500    게시됨: 2017년 05월 13일 15시 17분 KST  게시됨: 2017년 05월...\n",
       "19511    Russian President Vladimir Putin gestures as h...\n",
       "19523    게시됨: 2017년 05월 13일 15시 29분 KST  게시됨: 2017년 05월...\n",
       "19526    게시됨: 2017년 05월 13일 11시 43분 KST  게시됨: 2017년 05월...\n",
       "19529    ADVERTISEMENT  문재인 대통령 당선 후 처음으로 맞는 주말인 13일, 서...\n",
       "19575    ADVERTISEMENT  문재인 정부는 일정 기준 이상 비정규직을 고용한 대기업에...\n",
       "19619    게시됨: 2017년 05월 13일 18시 12분 KST  게시됨: 2017년 05월...\n",
       "19648    게시됨: 2017년 05월 13일 14시 58분 KST  게시됨: 2017년 05월...\n",
       "19652    ADVERTISEMENT  위키리크스가 트럼프가 지난 1월 제임스 코미 전 FBI ...\n",
       "19659    An IT researchers shows on a giant screen a co...\n",
       "19664    게시됨: 2017년 05월 13일 17시 09분 KST  게시됨: 2017년 05월...\n",
       "19673    An IT researchers shows on a giant screen a co...\n",
       "19674    ADVERTISEMENT  위키리크스가 트럼프가 지난 1월 제임스 코미 전 FBI ...\n",
       "19675    ADVERTISEMENT  문재인 대통령 당선 후 처음으로 맞는 주말인 13일, 서...\n",
       "19682    ADVERTISEMENT  문재인 대통령 당선 후 처음으로 맞는 주말인 13일, 서...\n",
       "19693    게시됨: 2017년 05월 13일 11시 43분 KST  게시됨: 2017년 05월...\n",
       "19699    ADVERTISEMENT  문재인 대통령 당선 후 처음으로 맞는 주말인 13일, 서...\n",
       "19700    게시됨: 2017년 05월 13일 15시 29분 KST  게시됨: 2017년 05월...\n",
       "19702    게시됨: 2017년 05월 13일 14시 18분 KST  게시됨: 2017년 05월...\n",
       "19721    게시됨: 2017년 05월 13일 17시 10분 KST  게시됨: 2017년 05월...\n",
       "19729    ADVERTISEMENT  안종범 전 청와대 정책조정수석이 박채윤 와이제이콥스메디칼...\n",
       "Name: body, dtype: object"
      ]
     },
     "execution_count": 3,
     "metadata": {},
     "output_type": "execute_result"
    }
   ],
   "source": [
    "from collections import defaultdict\n",
    "\n",
    "url_endings = defaultdict(list)\n",
    "\n",
    "for i, url in enumerate(data['url']):\n",
    "    url = url.split('//')[-1].split('/')[0].split('.')[-1]\n",
    "    url_endings[url].append(i)\n",
    "    \n",
    "#print(url_endings)\n",
    "\n",
    "def get_articles_by_end(ending):\n",
    "    indices = url_endings[ending]\n",
    "    articles = data.iloc[indices]\n",
    "    return articles\n",
    "\n",
    "articles = get_articles_by_end('kr')\n",
    "articles['body']"
   ]
  },
  {
   "cell_type": "code",
   "execution_count": 4,
   "metadata": {},
   "outputs": [
    {
     "name": "stdout",
     "output_type": "stream",
     "text": [
      "ie\n",
      "edu\n",
      "au\n",
      "es\n",
      "net\n",
      "gr\n",
      "fr\n",
      "jp\n",
      "de\n",
      "ca\n",
      "dk\n",
      "nz\n",
      "kr\n",
      "io\n",
      "uk\n",
      "it\n",
      "org\n",
      "google\n",
      "za\n",
      "ua\n",
      "gov\n",
      "me\n",
      "cn\n",
      "mx\n",
      "com\n",
      "in\n"
     ]
    }
   ],
   "source": [
    "for key in url_endings:\n",
    "    print(key)"
   ]
  },
  {
   "cell_type": "code",
   "execution_count": 5,
   "metadata": {},
   "outputs": [],
   "source": [
    "# bad endings tested: kr, cn, ua, dk, ca some french, it, mx, es, fr, de, gr\n",
    "#articles = get_articles_by_end('gr')\n",
    "#articles['body']"
   ]
  },
  {
   "cell_type": "code",
   "execution_count": 6,
   "metadata": {},
   "outputs": [],
   "source": [
    "def is_valid_url( url ):\n",
    "    invalid_urls = ['kr', 'cn', 'ua', 'dk', 'it', 'mx', 'es', 'fr', 'de', 'gr']\n",
    "    url_ending = url.split('//')[-1].split('/')[0].split('.')[-1]\n",
    "    if url_ending not in invalid_urls:\n",
    "        return True\n",
    "    else:\n",
    "        return False"
   ]
  },
  {
   "cell_type": "code",
   "execution_count": 7,
   "metadata": {},
   "outputs": [
    {
     "name": "stdout",
     "output_type": "stream",
     "text": [
      "http://www.huffingtonpost.kr/2017/05/02/story_n_16377820.html?utm_hp_ref=korea#comments\n"
     ]
    },
    {
     "data": {
      "text/plain": [
       "False"
      ]
     },
     "execution_count": 7,
     "metadata": {},
     "output_type": "execute_result"
    }
   ],
   "source": [
    "print(data['url'][907])\n",
    "is_valid_url( data['url'][907])\n"
   ]
  },
  {
   "cell_type": "code",
   "execution_count": null,
   "metadata": {
    "collapsed": true
   },
   "outputs": [],
   "source": []
  }
 ],
 "metadata": {
  "kernelspec": {
   "display_name": "Python 3",
   "language": "python",
   "name": "python3"
  },
  "language_info": {
   "codemirror_mode": {
    "name": "ipython",
    "version": 3
   },
   "file_extension": ".py",
   "mimetype": "text/x-python",
   "name": "python",
   "nbconvert_exporter": "python",
   "pygments_lexer": "ipython3",
   "version": "3.5.2"
  }
 },
 "nbformat": 4,
 "nbformat_minor": 2
}
