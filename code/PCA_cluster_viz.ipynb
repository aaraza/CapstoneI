{
 "cells": [
  {
   "cell_type": "code",
   "execution_count": 1,
   "metadata": {
    "collapsed": true
   },
   "outputs": [],
   "source": [
    "from scipy import sparse\n",
    "from sklearn.decomposition import PCA\n",
    "import numpy as np\n",
    "import matplotlib.pyplot as plt\n",
    "from sklearn.externals import joblib\n",
    "import pandas as pd\n",
    "import psycopg2\n",
    "from sklearn.feature_extraction.text import CountVectorizer, TfidfTransformer, TfidfVectorizer\n",
    "from sklearn.cluster import KMeans"
   ]
  },
  {
   "cell_type": "code",
   "execution_count": 16,
   "metadata": {},
   "outputs": [
    {
     "data": {
      "text/html": [
       "<div>\n",
       "<table border=\"1\" class=\"dataframe\">\n",
       "  <thead>\n",
       "    <tr style=\"text-align: right;\">\n",
       "      <th></th>\n",
       "      <th>index</th>\n",
       "      <th>site</th>\n",
       "      <th>title</th>\n",
       "      <th>author</th>\n",
       "      <th>published_on</th>\n",
       "      <th>accessed_on</th>\n",
       "      <th>url</th>\n",
       "      <th>body</th>\n",
       "      <th>newspaper_keywords</th>\n",
       "      <th>newspaper_summary</th>\n",
       "      <th>id</th>\n",
       "      <th>tokenized_body</th>\n",
       "      <th>word_count</th>\n",
       "      <th>stopworded_body</th>\n",
       "      <th>lemmatized_body</th>\n",
       "      <th>word_bag</th>\n",
       "      <th>named_entities</th>\n",
       "      <th>lexical_diversity</th>\n",
       "      <th>sentiment_score</th>\n",
       "      <th>binary_sentiment</th>\n",
       "    </tr>\n",
       "  </thead>\n",
       "  <tbody>\n",
       "    <tr>\n",
       "      <th>0</th>\n",
       "      <td>99</td>\n",
       "      <td>The Next Web</td>\n",
       "      <td>Fundamental growth hacking for new ‘solopreneurs’</td>\n",
       "      <td>Sam Hurley</td>\n",
       "      <td>2017-04-22</td>\n",
       "      <td>2017-04-22 12:50:37.109089</td>\n",
       "      <td>https://thenextweb.com/marketing-seo/2017/04/2...</td>\n",
       "      <td>Successful digital marketing and website optim...</td>\n",
       "      <td>{solopreneurs,know,thats,social,content,right,...</td>\n",
       "      <td>Growth hacking is a turbo-charged form of mark...</td>\n",
       "      <td>27372</td>\n",
       "      <td>[u'Successful', u'digital', u'marketing', u'an...</td>\n",
       "      <td>1396</td>\n",
       "      <td>[u'successful', u'digital', u'marketing', u'we...</td>\n",
       "      <td>[u'successful', u'digital', u'marketing', u'we...</td>\n",
       "      <td>[(u'content', 19), (u'you', 13), (u'need', 12)...</td>\n",
       "      <td>[(u'Google', u'ORGANIZATION'), (u'Google', u'O...</td>\n",
       "      <td>63.255240</td>\n",
       "      <td>{'neg': 0.04236708860759494, 'neu': 0.81048101...</td>\n",
       "      <td>1</td>\n",
       "    </tr>\n",
       "    <tr>\n",
       "      <th>1</th>\n",
       "      <td>817</td>\n",
       "      <td>GoogleNews</td>\n",
       "      <td>We All Need More of What Moto and the Snapdrag...</td>\n",
       "      <td>Oscar García</td>\n",
       "      <td>2017-04-13</td>\n",
       "      <td>2017-04-16 09:32:07.044448</td>\n",
       "      <td>http://www.droid-life.com/2017/04/13/need-moto...</td>\n",
       "      <td>If you are in the market for a new phone and w...</td>\n",
       "      <td>{snapdragon,cookin,phone,battery,need,life,z,p...</td>\n",
       "      <td>I’ve talked about my love for the Moto Z Play ...</td>\n",
       "      <td>19299</td>\n",
       "      <td>[u'If', u'you', u'are', u'in', u'the', u'marke...</td>\n",
       "      <td>798</td>\n",
       "      <td>[u'if', u'market', u'new', u'phone', u'want', ...</td>\n",
       "      <td>[u'if', u'market', u'new', u'phone', u'want', ...</td>\n",
       "      <td>[(u'phone', 21), (u'625', 8), (u'battery', 7),...</td>\n",
       "      <td>[(u'Motorola', u'ORGANIZATION'), (u'Motorola',...</td>\n",
       "      <td>63.294118</td>\n",
       "      <td>{'neg': 0.03620588235294118, 'neu': 0.87673529...</td>\n",
       "      <td>1</td>\n",
       "    </tr>\n",
       "    <tr>\n",
       "      <th>2</th>\n",
       "      <td>990</td>\n",
       "      <td>GoogleNews</td>\n",
       "      <td>Google News</td>\n",
       "      <td>None</td>\n",
       "      <td>None</td>\n",
       "      <td>2017-04-15 09:17:51.999701</td>\n",
       "      <td>https://news.google.com/news/rtc?ncl=d9ziIwJl0...</td>\n",
       "      <td>From tweets to the streets: Nationwide anti-Tr...</td>\n",
       "      <td>{white,antitrump,day,tweets,nationwide,tax,str...</td>\n",
       "      <td>The Atlantic Subscribe to The Atlantic's Polit...</td>\n",
       "      <td>17572</td>\n",
       "      <td>[u'From', u'tweets', u'to', u'the', u'streets'...</td>\n",
       "      <td>238</td>\n",
       "      <td>[u'from', u'tweets', u'streets', u':', u'natio...</td>\n",
       "      <td>[u'from', u'tweet', u'street', u':', u'nationw...</td>\n",
       "      <td>[(u'tax', 6), (u'protest', 5), (u'march', 5), ...</td>\n",
       "      <td>[(u'CNN', u'ORGANIZATION'), (u'CNN', u'ORGANIZ...</td>\n",
       "      <td>70.779221</td>\n",
       "      <td>{'neg': 0.096625, 'neu': 0.86825, 'pos': 0.035...</td>\n",
       "      <td>0</td>\n",
       "    </tr>\n",
       "    <tr>\n",
       "      <th>3</th>\n",
       "      <td>725</td>\n",
       "      <td>Tech Cruch</td>\n",
       "      <td>SpotCam connects you to your home, outside and in</td>\n",
       "      <td>John Biggs</td>\n",
       "      <td>2017-04-13</td>\n",
       "      <td>2017-04-14 13:04:40.832326</td>\n",
       "      <td>https://techcrunch.com/2017/04/13/spotcam-conn...</td>\n",
       "      <td>When it comes to home surveillance cams there ...</td>\n",
       "      <td>{app,model,quite,youre,youll,spotcam,set,outsi...</td>\n",
       "      <td>SpotCam seems to land squarely in the middle w...</td>\n",
       "      <td>17309</td>\n",
       "      <td>[u'When', u'it', u'comes', u'to', u'home', u's...</td>\n",
       "      <td>547</td>\n",
       "      <td>[u'when', u'comes', u'home', u'surveillance', ...</td>\n",
       "      <td>[u'when', u'come', u'home', u'surveillance', u...</td>\n",
       "      <td>[(u'home', 5), (u'spotcam', 4), (u'set', 4), (...</td>\n",
       "      <td>[(u'Dropcam', u'PERSON')]</td>\n",
       "      <td>73.448276</td>\n",
       "      <td>{'neg': 0.02, 'neu': 0.7853600000000001, 'pos'...</td>\n",
       "      <td>1</td>\n",
       "    </tr>\n",
       "    <tr>\n",
       "      <th>4</th>\n",
       "      <td>538</td>\n",
       "      <td>The Verge</td>\n",
       "      <td>Nintendo doesn’t want your money — it wants yo...</td>\n",
       "      <td>Apr</td>\n",
       "      <td>2017-04-13</td>\n",
       "      <td>2017-04-14 12:49:38.520662</td>\n",
       "      <td>http://www.theverge.com/2017/4/13/15294494/nin...</td>\n",
       "      <td>Nintendo’s announcement today that it’s discon...</td>\n",
       "      <td>{sell,money,soul,doesnt,products,product,ninte...</td>\n",
       "      <td>How, after so many product mishaps and sleeper...</td>\n",
       "      <td>17215</td>\n",
       "      <td>[u'Nintendo\\u2019s', u'announcement', u'today'...</td>\n",
       "      <td>998</td>\n",
       "      <td>[u'nintendo\\u2019s', u'announcement', u'today'...</td>\n",
       "      <td>[u'nintendo\\u2019s', u'announcement', u'today'...</td>\n",
       "      <td>[(u'nintendo', 18), (u'company', 11), (u'it\\u2...</td>\n",
       "      <td>[(u'Nintendo', u'ORGANIZATION'), (u'Nintendo',...</td>\n",
       "      <td>66.994106</td>\n",
       "      <td>{'neg': 0.06741666666666664, 'neu': 0.84256250...</td>\n",
       "      <td>1</td>\n",
       "    </tr>\n",
       "  </tbody>\n",
       "</table>\n",
       "</div>"
      ],
      "text/plain": [
       "   index          site                                              title  \\\n",
       "0     99  The Next Web  Fundamental growth hacking for new ‘solopreneurs’   \n",
       "1    817    GoogleNews  We All Need More of What Moto and the Snapdrag...   \n",
       "2    990    GoogleNews                                        Google News   \n",
       "3    725    Tech Cruch  SpotCam connects you to your home, outside and in   \n",
       "4    538     The Verge  Nintendo doesn’t want your money — it wants yo...   \n",
       "\n",
       "         author published_on                 accessed_on  \\\n",
       "0    Sam Hurley   2017-04-22  2017-04-22 12:50:37.109089   \n",
       "1  Oscar García   2017-04-13  2017-04-16 09:32:07.044448   \n",
       "2          None         None  2017-04-15 09:17:51.999701   \n",
       "3    John Biggs   2017-04-13  2017-04-14 13:04:40.832326   \n",
       "4           Apr   2017-04-13  2017-04-14 12:49:38.520662   \n",
       "\n",
       "                                                 url  \\\n",
       "0  https://thenextweb.com/marketing-seo/2017/04/2...   \n",
       "1  http://www.droid-life.com/2017/04/13/need-moto...   \n",
       "2  https://news.google.com/news/rtc?ncl=d9ziIwJl0...   \n",
       "3  https://techcrunch.com/2017/04/13/spotcam-conn...   \n",
       "4  http://www.theverge.com/2017/4/13/15294494/nin...   \n",
       "\n",
       "                                                body  \\\n",
       "0  Successful digital marketing and website optim...   \n",
       "1  If you are in the market for a new phone and w...   \n",
       "2  From tweets to the streets: Nationwide anti-Tr...   \n",
       "3  When it comes to home surveillance cams there ...   \n",
       "4  Nintendo’s announcement today that it’s discon...   \n",
       "\n",
       "                                  newspaper_keywords  \\\n",
       "0  {solopreneurs,know,thats,social,content,right,...   \n",
       "1  {snapdragon,cookin,phone,battery,need,life,z,p...   \n",
       "2  {white,antitrump,day,tweets,nationwide,tax,str...   \n",
       "3  {app,model,quite,youre,youll,spotcam,set,outsi...   \n",
       "4  {sell,money,soul,doesnt,products,product,ninte...   \n",
       "\n",
       "                                   newspaper_summary     id  \\\n",
       "0  Growth hacking is a turbo-charged form of mark...  27372   \n",
       "1  I’ve talked about my love for the Moto Z Play ...  19299   \n",
       "2  The Atlantic Subscribe to The Atlantic's Polit...  17572   \n",
       "3  SpotCam seems to land squarely in the middle w...  17309   \n",
       "4  How, after so many product mishaps and sleeper...  17215   \n",
       "\n",
       "                                      tokenized_body  word_count  \\\n",
       "0  [u'Successful', u'digital', u'marketing', u'an...        1396   \n",
       "1  [u'If', u'you', u'are', u'in', u'the', u'marke...         798   \n",
       "2  [u'From', u'tweets', u'to', u'the', u'streets'...         238   \n",
       "3  [u'When', u'it', u'comes', u'to', u'home', u's...         547   \n",
       "4  [u'Nintendo\\u2019s', u'announcement', u'today'...         998   \n",
       "\n",
       "                                     stopworded_body  \\\n",
       "0  [u'successful', u'digital', u'marketing', u'we...   \n",
       "1  [u'if', u'market', u'new', u'phone', u'want', ...   \n",
       "2  [u'from', u'tweets', u'streets', u':', u'natio...   \n",
       "3  [u'when', u'comes', u'home', u'surveillance', ...   \n",
       "4  [u'nintendo\\u2019s', u'announcement', u'today'...   \n",
       "\n",
       "                                     lemmatized_body  \\\n",
       "0  [u'successful', u'digital', u'marketing', u'we...   \n",
       "1  [u'if', u'market', u'new', u'phone', u'want', ...   \n",
       "2  [u'from', u'tweet', u'street', u':', u'nationw...   \n",
       "3  [u'when', u'come', u'home', u'surveillance', u...   \n",
       "4  [u'nintendo\\u2019s', u'announcement', u'today'...   \n",
       "\n",
       "                                            word_bag  \\\n",
       "0  [(u'content', 19), (u'you', 13), (u'need', 12)...   \n",
       "1  [(u'phone', 21), (u'625', 8), (u'battery', 7),...   \n",
       "2  [(u'tax', 6), (u'protest', 5), (u'march', 5), ...   \n",
       "3  [(u'home', 5), (u'spotcam', 4), (u'set', 4), (...   \n",
       "4  [(u'nintendo', 18), (u'company', 11), (u'it\\u2...   \n",
       "\n",
       "                                      named_entities  lexical_diversity  \\\n",
       "0  [(u'Google', u'ORGANIZATION'), (u'Google', u'O...          63.255240   \n",
       "1  [(u'Motorola', u'ORGANIZATION'), (u'Motorola',...          63.294118   \n",
       "2  [(u'CNN', u'ORGANIZATION'), (u'CNN', u'ORGANIZ...          70.779221   \n",
       "3                          [(u'Dropcam', u'PERSON')]          73.448276   \n",
       "4  [(u'Nintendo', u'ORGANIZATION'), (u'Nintendo',...          66.994106   \n",
       "\n",
       "                                     sentiment_score  binary_sentiment  \n",
       "0  {'neg': 0.04236708860759494, 'neu': 0.81048101...                 1  \n",
       "1  {'neg': 0.03620588235294118, 'neu': 0.87673529...                 1  \n",
       "2  {'neg': 0.096625, 'neu': 0.86825, 'pos': 0.035...                 0  \n",
       "3  {'neg': 0.02, 'neu': 0.7853600000000001, 'pos'...                 1  \n",
       "4  {'neg': 0.06741666666666664, 'neu': 0.84256250...                 1  "
      ]
     },
     "execution_count": 16,
     "metadata": {},
     "output_type": "execute_result"
    }
   ],
   "source": [
    "conn = psycopg2.connect(\"dbname='cap' user='postgres' host='ec2-52-27-114-159.us-west-2.compute.amazonaws.com' port=9000 password ='secret'\")\n",
    "data = pd.read_sql_query(\"SELECT * FROM nlp_dim ORDER BY id DESC LIMIT 300\", conn)"
   ]
  },
  {
   "cell_type": "code",
   "execution_count": 4,
   "metadata": {},
   "outputs": [],
   "source": [
    "x = sparse.load_npz('model/tf_idf.npz')"
   ]
  },
  {
   "cell_type": "code",
   "execution_count": 5,
   "metadata": {},
   "outputs": [
    {
     "data": {
      "text/plain": [
       "<100x100 sparse matrix of type '<class 'numpy.float64'>'\n",
       "\twith 3667 stored elements in Compressed Sparse Row format>"
      ]
     },
     "execution_count": 5,
     "metadata": {},
     "output_type": "execute_result"
    }
   ],
   "source": [
    "x"
   ]
  },
  {
   "cell_type": "code",
   "execution_count": 6,
   "metadata": {},
   "outputs": [
    {
     "data": {
      "text/plain": [
       "KMeans(algorithm='auto', copy_x=True, init='k-means++', max_iter=300,\n",
       "    n_clusters=3, n_init=10, n_jobs=1, precompute_distances='auto',\n",
       "    random_state=None, tol=0.0001, verbose=0)"
      ]
     },
     "execution_count": 6,
     "metadata": {},
     "output_type": "execute_result"
    }
   ],
   "source": [
    "# First we are going to PCA this vector data \n",
    "reduced_data = PCA(n_components=2).fit_transform(x.todense())\n",
    "\n",
    "km = KMeans(init='k-means++', n_clusters=3, n_init=10)\n",
    "km.fit(reduced_data)"
   ]
  },
  {
   "cell_type": "code",
   "execution_count": 7,
   "metadata": {},
   "outputs": [
    {
     "data": {
      "text/plain": [
       "(100, 2)"
      ]
     },
     "execution_count": 7,
     "metadata": {},
     "output_type": "execute_result"
    }
   ],
   "source": [
    "reduced_data.shape"
   ]
  },
  {
   "cell_type": "code",
   "execution_count": 8,
   "metadata": {
    "collapsed": true
   },
   "outputs": [],
   "source": [
    "# step size of mesh\n",
    "h = 0.1\n",
    "\n",
    "x_min, x_max = reduced_data[:, 0].min() - 1, reduced_data[:, 0].max() + 1\n",
    "y_min, y_max = reduced_data[:, 1].min() - 1, reduced_data[:, 1].max() + 1"
   ]
  },
  {
   "cell_type": "code",
   "execution_count": 9,
   "metadata": {
    "collapsed": true
   },
   "outputs": [],
   "source": [
    "xx, yy = np.meshgrid(np.arange(x_min, x_max, h), np.arange(y_min, y_max, h))"
   ]
  },
  {
   "cell_type": "code",
   "execution_count": 10,
   "metadata": {},
   "outputs": [
    {
     "data": {
      "text/plain": [
       "(33, 35)"
      ]
     },
     "execution_count": 10,
     "metadata": {},
     "output_type": "execute_result"
    }
   ],
   "source": [
    "xx.shape"
   ]
  },
  {
   "cell_type": "code",
   "execution_count": 11,
   "metadata": {},
   "outputs": [
    {
     "data": {
      "text/plain": [
       "(33, 35)"
      ]
     },
     "execution_count": 11,
     "metadata": {},
     "output_type": "execute_result"
    }
   ],
   "source": [
    "yy.shape"
   ]
  },
  {
   "cell_type": "code",
   "execution_count": 12,
   "metadata": {},
   "outputs": [
    {
     "data": {
      "text/plain": [
       "(1155,)"
      ]
     },
     "execution_count": 12,
     "metadata": {},
     "output_type": "execute_result"
    }
   ],
   "source": [
    "test_data = np.c_[xx.ravel(), yy.ravel()]\n",
    "# test_data.shape\n",
    "Z = km.predict(test_data)\n",
    "Z.shape"
   ]
  },
  {
   "cell_type": "code",
   "execution_count": 13,
   "metadata": {},
   "outputs": [
    {
     "data": {
      "text/plain": [
       "(33, 35)"
      ]
     },
     "execution_count": 13,
     "metadata": {},
     "output_type": "execute_result"
    }
   ],
   "source": [
    "Z = Z.reshape(xx.shape)\n",
    "Z.shape"
   ]
  },
  {
   "cell_type": "code",
   "execution_count": 18,
   "metadata": {},
   "outputs": [
    {
     "data": {
      "image/png": "[encoded data removed]",
      "text/plain": [
       "<matplotlib.figure.Figure at 0x7f8ae2df1fd0>"
      ]
     },
     "metadata": {},
     "output_type": "display_data"
    }
   ],
   "source": [
    "plt.figure(1)\n",
    "plt.clf()\n",
    "plt.imshow(Z, interpolation='nearest',\n",
    "          extent=(xx.min(), xx.max(), yy.min(), yy.max()),\n",
    "            cmap=plt.cm.Paired,\n",
    "           aspect='auto', origin='lower')\n",
    "plt.plot(reduced_data[:, 0], reduced_data[:, 1], 'k.', markersize=2)\n",
    "plt.show()"
   ]
  },
  {
   "cell_type": "code",
   "execution_count": 19,
   "metadata": {},
   "outputs": [
    {
     "data": {
      "text/plain": [
       "array([[  7.07106781e-01,  -3.18433667e-01],\n",
       "       [  7.07106781e-01,  -3.18433667e-01],\n",
       "       [  7.07106781e-01,  -3.18433667e-01],\n",
       "       [  7.07106781e-01,  -3.18433667e-01],\n",
       "       [  7.07106781e-01,  -3.18433667e-01],\n",
       "       [  7.07106781e-01,  -3.18433667e-01],\n",
       "       [  7.07106781e-01,  -3.18433667e-01],\n",
       "       [  7.07106781e-01,  -3.18433667e-01],\n",
       "       [  7.07106781e-01,  -3.18433667e-01],\n",
       "       [  7.07106781e-01,  -3.18433667e-01],\n",
       "       [  7.07106781e-01,  -3.18433667e-01],\n",
       "       [  7.07106781e-01,  -3.18433667e-01],\n",
       "       [  7.07106781e-01,  -3.18433667e-01],\n",
       "       [  7.07106781e-01,  -3.18433667e-01],\n",
       "       [  7.07106781e-01,  -3.18433667e-01],\n",
       "       [  7.07106781e-01,  -3.18433667e-01],\n",
       "       [  7.07106781e-01,  -3.18433667e-01],\n",
       "       [  7.07106781e-01,  -3.18433667e-01],\n",
       "       [  7.07106781e-01,  -3.18433667e-01],\n",
       "       [  7.07106781e-01,  -3.18433667e-01],\n",
       "       [  7.07106781e-01,  -3.18433667e-01],\n",
       "       [  7.07106781e-01,  -3.18433667e-01],\n",
       "       [  7.07106781e-01,  -3.18433667e-01],\n",
       "       [  7.07106781e-01,  -3.18433667e-01],\n",
       "       [  7.07106781e-01,  -3.18433667e-01],\n",
       "       [  7.07106781e-01,  -3.18433667e-01],\n",
       "       [  7.07106781e-01,  -3.18433667e-01],\n",
       "       [  7.07106781e-01,  -3.18433667e-01],\n",
       "       [  7.07106781e-01,  -3.18433667e-01],\n",
       "       [  7.07106781e-01,  -3.18433667e-01],\n",
       "       [  7.07106781e-01,  -3.18433667e-01],\n",
       "       [  7.07106781e-01,  -3.18433667e-01],\n",
       "       [  7.07106781e-01,  -3.18433667e-01],\n",
       "       [  7.07106781e-01,  -3.18433667e-01],\n",
       "       [  7.07106781e-01,  -3.18433667e-01],\n",
       "       [  7.07106781e-01,  -3.18433667e-01],\n",
       "       [  7.07106781e-01,  -3.18433667e-01],\n",
       "       [ -7.07106781e-01,  -3.18433667e-01],\n",
       "       [ -7.07106781e-01,  -3.18433667e-01],\n",
       "       [ -7.07106781e-01,  -3.18433667e-01],\n",
       "       [ -7.07106781e-01,  -3.18433667e-01],\n",
       "       [ -7.07106781e-01,  -3.18433667e-01],\n",
       "       [ -7.07106781e-01,  -3.18433667e-01],\n",
       "       [ -7.07106781e-01,  -3.18433667e-01],\n",
       "       [ -7.07106781e-01,  -3.18433667e-01],\n",
       "       [ -7.07106781e-01,  -3.18433667e-01],\n",
       "       [ -7.07106781e-01,  -3.18433667e-01],\n",
       "       [ -7.07106781e-01,  -3.18433667e-01],\n",
       "       [ -7.07106781e-01,  -3.18433667e-01],\n",
       "       [ -7.07106781e-01,  -3.18433667e-01],\n",
       "       [ -7.07106781e-01,  -3.18433667e-01],\n",
       "       [ -7.07106781e-01,  -3.18433667e-01],\n",
       "       [ -7.07106781e-01,  -3.18433667e-01],\n",
       "       [ -7.07106781e-01,  -3.18433667e-01],\n",
       "       [ -7.07106781e-01,  -3.18433667e-01],\n",
       "       [ -7.07106781e-01,  -3.18433667e-01],\n",
       "       [ -7.07106781e-01,  -3.18433667e-01],\n",
       "       [ -7.07106781e-01,  -3.18433667e-01],\n",
       "       [ -7.07106781e-01,  -3.18433667e-01],\n",
       "       [ -7.07106781e-01,  -3.18433667e-01],\n",
       "       [ -7.07106781e-01,  -3.18433667e-01],\n",
       "       [ -7.07106781e-01,  -3.18433667e-01],\n",
       "       [ -7.07106781e-01,  -3.18433667e-01],\n",
       "       [ -7.07106781e-01,  -3.18433667e-01],\n",
       "       [ -7.07106781e-01,  -3.18433667e-01],\n",
       "       [ -7.07106781e-01,  -3.18433667e-01],\n",
       "       [ -7.07106781e-01,  -3.18433667e-01],\n",
       "       [ -7.07106781e-01,  -3.18433667e-01],\n",
       "       [ -7.07106781e-01,  -3.18433667e-01],\n",
       "       [ -7.07106781e-01,  -3.18433667e-01],\n",
       "       [ -7.07106781e-01,  -3.18433667e-01],\n",
       "       [ -7.07106781e-01,  -3.18433667e-01],\n",
       "       [ -7.07106781e-01,  -3.18433667e-01],\n",
       "       [ -7.07106781e-01,  -3.18433667e-01],\n",
       "       [  1.36661732e-15,   9.06311205e-01],\n",
       "       [  1.36661732e-15,   9.06311205e-01],\n",
       "       [  1.36661732e-15,   9.06311205e-01],\n",
       "       [  1.36661732e-15,   9.06311205e-01],\n",
       "       [  1.36661732e-15,   9.06311205e-01],\n",
       "       [  1.36661732e-15,   9.06311205e-01],\n",
       "       [  1.36661732e-15,   9.06311205e-01],\n",
       "       [  1.36661732e-15,   9.06311205e-01],\n",
       "       [  1.36661732e-15,   9.06311205e-01],\n",
       "       [  1.36661732e-15,   9.06311205e-01],\n",
       "       [  1.36661732e-15,   9.06311205e-01],\n",
       "       [  1.36661732e-15,   9.06311205e-01],\n",
       "       [  1.36661732e-15,   9.06311205e-01],\n",
       "       [  1.36661732e-15,   9.06311205e-01],\n",
       "       [  1.36661732e-15,   9.06311205e-01],\n",
       "       [  1.36661732e-15,   9.06311205e-01],\n",
       "       [  1.36661732e-15,   9.06311205e-01],\n",
       "       [  1.36661732e-15,   9.06311205e-01],\n",
       "       [  1.36661732e-15,   9.06311205e-01],\n",
       "       [  1.36661732e-15,   9.06311205e-01],\n",
       "       [  1.36661732e-15,   9.06311205e-01],\n",
       "       [  1.36661732e-15,   9.06311205e-01],\n",
       "       [  1.36661732e-15,   9.06311205e-01],\n",
       "       [  1.36661732e-15,   9.06311205e-01],\n",
       "       [  1.36661732e-15,   9.06311205e-01],\n",
       "       [  1.36661732e-15,   9.06311205e-01]])"
      ]
     },
     "execution_count": 19,
     "metadata": {},
     "output_type": "execute_result"
    }
   ],
   "source": [
    "reduced_data"
   ]
  },
  {
   "cell_type": "code",
   "execution_count": null,
   "metadata": {
    "collapsed": true
   },
   "outputs": [],
   "source": []
  }
 ],
 "metadata": {
  "kernelspec": {
   "display_name": "Python 3",
   "language": "python",
   "name": "python3"
  },
  "language_info": {
   "codemirror_mode": {
    "name": "ipython",
    "version": 3
   },
   "file_extension": ".py",
   "mimetype": "text/x-python",
   "name": "python",
   "nbconvert_exporter": "python",
   "pygments_lexer": "ipython3",
   "version": "3.5.2"
  }
 },
 "nbformat": 4,
 "nbformat_minor": 2
}
