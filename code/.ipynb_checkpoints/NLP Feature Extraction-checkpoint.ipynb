{
 "cells": [
  {
   "cell_type": "code",
   "execution_count": 5,
   "metadata": {
    "collapsed": false
   },
   "outputs": [],
   "source": [
    "import psycopg2\n",
    "import pandas as pd\n",
    "import nltk\n",
    "from nltk.corpus import stopwords\n",
    "from nltk import FreqDist\n",
    "import re\n",
    "from __future__ import division\n",
    "from nltk.tag import StanfordNERTagger"
   ]
  },
  {
   "cell_type": "code",
   "execution_count": 6,
   "metadata": {
    "collapsed": false
   },
   "outputs": [],
   "source": [
    "conn = psycopg2.connect(\"dbname='cap' user='postgres' host='ec2-52-27-114-159.us-west-2.compute.amazonaws.com' port=9000 password ='secret'\")\n",
    "df = pd.read_sql_query(\"SELECT * FROM articles limit 5\", conn)"
   ]
  },
  {
   "cell_type": "code",
   "execution_count": 7,
   "metadata": {
    "collapsed": false,
    "scrolled": true
   },
   "outputs": [
    {
     "data": {
      "text/html": [
       "<div>\n",
       "<table border=\"1\" class=\"dataframe\">\n",
       "  <thead>\n",
       "    <tr style=\"text-align: right;\">\n",
       "      <th></th>\n",
       "      <th>site</th>\n",
       "      <th>title</th>\n",
       "      <th>author</th>\n",
       "      <th>published_on</th>\n",
       "      <th>accessed_on</th>\n",
       "      <th>url</th>\n",
       "      <th>body</th>\n",
       "      <th>newspaper_keywords</th>\n",
       "      <th>newspaper_summary</th>\n",
       "      <th>id</th>\n",
       "    </tr>\n",
       "  </thead>\n",
       "  <tbody>\n",
       "    <tr>\n",
       "      <th>0</th>\n",
       "      <td>Breitbart</td>\n",
       "      <td>Trump: ‘We’re Doing Very Well in Iraq,’ U.S. T...</td>\n",
       "      <td>John Hayward</td>\n",
       "      <td>2017-03-29</td>\n",
       "      <td>2017-03-31 08:20:09.478760</td>\n",
       "      <td>http://www.breitbart.com/national-security/201...</td>\n",
       "      <td>SIGN UP FOR OUR NEWSLETTER  On Tuesday, Presid...</td>\n",
       "      <td>{war,told,secretary,soldiers,taking,iraq,presi...</td>\n",
       "      <td>SIGN UP FOR OUR NEWSLETTEROn Tuesday, Presiden...</td>\n",
       "      <td>981</td>\n",
       "    </tr>\n",
       "    <tr>\n",
       "      <th>1</th>\n",
       "      <td>Breitbart</td>\n",
       "      <td>Top U.S. General: ‘We Have Not Relaxed the Rul...</td>\n",
       "      <td>Edwin Mora</td>\n",
       "      <td>2017-03-29</td>\n",
       "      <td>2017-03-31 08:20:14.741313</td>\n",
       "      <td>http://www.breitbart.com/national-security/201...</td>\n",
       "      <td>SIGN UP FOR OUR NEWSLETTER  WASHINGTON, D.C. —...</td>\n",
       "      <td>{gen,rules,responsibility,engagement,military,...</td>\n",
       "      <td>We have not relaxed the rules of engagement.\\n...</td>\n",
       "      <td>982</td>\n",
       "    </tr>\n",
       "    <tr>\n",
       "      <th>2</th>\n",
       "      <td>Breitbart</td>\n",
       "      <td>Protests in Paris Continue for Third Night Aft...</td>\n",
       "      <td>Oliver Jj Lane</td>\n",
       "      <td>2017-03-30</td>\n",
       "      <td>2017-03-31 08:20:18.922523</td>\n",
       "      <td>http://www.breitbart.com/london/2017/03/30/pro...</td>\n",
       "      <td>SIGN UP FOR OUR NEWSLETTER  Hundreds of “Asian...</td>\n",
       "      <td>{night,protest,paris,killed,france,chinese,sub...</td>\n",
       "      <td>SIGN UP FOR OUR NEWSLETTERHundreds of “Asians”...</td>\n",
       "      <td>983</td>\n",
       "    </tr>\n",
       "    <tr>\n",
       "      <th>3</th>\n",
       "      <td>Breitbart</td>\n",
       "      <td>Rep. Jim Jordan: Working with Dems on Health C...</td>\n",
       "      <td>Dan Riehl</td>\n",
       "      <td>2017-03-30</td>\n",
       "      <td>2017-03-31 08:20:25.141342</td>\n",
       "      <td>http://www.breitbart.com/radio/2017/03/30/rep-...</td>\n",
       "      <td>SIGN UP FOR OUR NEWSLETTER  Rep. Jim Jordan (R...</td>\n",
       "      <td>{come,jim,healthcare,reform,werent,working,mis...</td>\n",
       "      <td>SIGN UP FOR OUR NEWSLETTERRep. Jim Jordan (R-O...</td>\n",
       "      <td>984</td>\n",
       "    </tr>\n",
       "    <tr>\n",
       "      <th>4</th>\n",
       "      <td>Breitbart</td>\n",
       "      <td>John McCain in Last-Minute Attempt to Avert Go...</td>\n",
       "      <td>Ian Mason</td>\n",
       "      <td>2017-03-30</td>\n",
       "      <td>2017-03-31 08:20:29.304708</td>\n",
       "      <td>http://www.breitbart.com/big-government/2017/0...</td>\n",
       "      <td>SIGN UP FOR OUR NEWSLETTER  Sen. John McCain (...</td>\n",
       "      <td>{constitutional,john,supreme,court,attempt,mcc...</td>\n",
       "      <td>SIGN UP FOR OUR NEWSLETTERSen. John McCain (R-...</td>\n",
       "      <td>985</td>\n",
       "    </tr>\n",
       "  </tbody>\n",
       "</table>\n",
       "</div>"
      ],
      "text/plain": [
       "        site                                              title  \\\n",
       "0  Breitbart  Trump: ‘We’re Doing Very Well in Iraq,’ U.S. T...   \n",
       "1  Breitbart  Top U.S. General: ‘We Have Not Relaxed the Rul...   \n",
       "2  Breitbart  Protests in Paris Continue for Third Night Aft...   \n",
       "3  Breitbart  Rep. Jim Jordan: Working with Dems on Health C...   \n",
       "4  Breitbart  John McCain in Last-Minute Attempt to Avert Go...   \n",
       "\n",
       "           author published_on                accessed_on  \\\n",
       "0    John Hayward   2017-03-29 2017-03-31 08:20:09.478760   \n",
       "1      Edwin Mora   2017-03-29 2017-03-31 08:20:14.741313   \n",
       "2  Oliver Jj Lane   2017-03-30 2017-03-31 08:20:18.922523   \n",
       "3       Dan Riehl   2017-03-30 2017-03-31 08:20:25.141342   \n",
       "4       Ian Mason   2017-03-30 2017-03-31 08:20:29.304708   \n",
       "\n",
       "                                                 url  \\\n",
       "0  http://www.breitbart.com/national-security/201...   \n",
       "1  http://www.breitbart.com/national-security/201...   \n",
       "2  http://www.breitbart.com/london/2017/03/30/pro...   \n",
       "3  http://www.breitbart.com/radio/2017/03/30/rep-...   \n",
       "4  http://www.breitbart.com/big-government/2017/0...   \n",
       "\n",
       "                                                body  \\\n",
       "0  SIGN UP FOR OUR NEWSLETTER  On Tuesday, Presid...   \n",
       "1  SIGN UP FOR OUR NEWSLETTER  WASHINGTON, D.C. —...   \n",
       "2  SIGN UP FOR OUR NEWSLETTER  Hundreds of “Asian...   \n",
       "3  SIGN UP FOR OUR NEWSLETTER  Rep. Jim Jordan (R...   \n",
       "4  SIGN UP FOR OUR NEWSLETTER  Sen. John McCain (...   \n",
       "\n",
       "                                  newspaper_keywords  \\\n",
       "0  {war,told,secretary,soldiers,taking,iraq,presi...   \n",
       "1  {gen,rules,responsibility,engagement,military,...   \n",
       "2  {night,protest,paris,killed,france,chinese,sub...   \n",
       "3  {come,jim,healthcare,reform,werent,working,mis...   \n",
       "4  {constitutional,john,supreme,court,attempt,mcc...   \n",
       "\n",
       "                                   newspaper_summary   id  \n",
       "0  SIGN UP FOR OUR NEWSLETTEROn Tuesday, Presiden...  981  \n",
       "1  We have not relaxed the rules of engagement.\\n...  982  \n",
       "2  SIGN UP FOR OUR NEWSLETTERHundreds of “Asians”...  983  \n",
       "3  SIGN UP FOR OUR NEWSLETTERRep. Jim Jordan (R-O...  984  \n",
       "4  SIGN UP FOR OUR NEWSLETTERSen. John McCain (R-...  985  "
      ]
     },
     "execution_count": 7,
     "metadata": {},
     "output_type": "execute_result"
    }
   ],
   "source": [
    "df"
   ]
  },
  {
   "cell_type": "markdown",
   "metadata": {},
   "source": [
    "#### Tokenize the article body"
   ]
  },
  {
   "cell_type": "code",
   "execution_count": 8,
   "metadata": {
    "collapsed": false
   },
   "outputs": [],
   "source": [
    "tokenized_body = []\n",
    "for body in df['body']:\n",
    "    body = body.decode('utf-8')\n",
    "    tokens = nltk.word_tokenize(body)\n",
    "    tokenized_body.append(tokens)"
   ]
  },
  {
   "cell_type": "code",
   "execution_count": 9,
   "metadata": {
    "collapsed": true
   },
   "outputs": [],
   "source": [
    "se = pd.Series(tokenized_body)\n",
    "df['tokenized_body'] = se.values"
   ]
  },
  {
   "cell_type": "markdown",
   "metadata": {},
   "source": [
    "#### Simple word count"
   ]
  },
  {
   "cell_type": "code",
   "execution_count": 10,
   "metadata": {
    "collapsed": true
   },
   "outputs": [],
   "source": [
    "word_count = []\n",
    "for body in df['tokenized_body']:\n",
    "    word_count.append(len(body))"
   ]
  },
  {
   "cell_type": "code",
   "execution_count": 11,
   "metadata": {
    "collapsed": true
   },
   "outputs": [],
   "source": [
    "se = pd.Series(word_count)\n",
    "df['word_count'] = se.values"
   ]
  },
  {
   "cell_type": "markdown",
   "metadata": {},
   "source": [
    "#### Stopword Removal"
   ]
  },
  {
   "cell_type": "code",
   "execution_count": 12,
   "metadata": {
    "collapsed": false
   },
   "outputs": [],
   "source": [
    "stop_words = stopwords.words('english')\n",
    "stop_words = stop_words + [',', '.', '!', '?', '\"','\\'', '/', '\\\\', '-', '--', '—', '(', ')', '[', ']', '\\'s', '\\'t', '\\'ve', '\\'d', '\\'ll', '\\'re']\n",
    "stop_words = set(stop_words) # making this a set increases performance for large documents"
   ]
  },
  {
   "cell_type": "code",
   "execution_count": 13,
   "metadata": {
    "collapsed": false
   },
   "outputs": [],
   "source": [
    "stopworded_body = []\n",
    "for body in df['tokenized_body']:\n",
    "    stopworded_body.append([w.lower() for w in body if w not in stop_words])"
   ]
  },
  {
   "cell_type": "code",
   "execution_count": 14,
   "metadata": {
    "collapsed": false
   },
   "outputs": [],
   "source": [
    "se = pd.Series(stopworded_body)\n",
    "df['stopworded_body'] = se.values"
   ]
  },
  {
   "cell_type": "markdown",
   "metadata": {},
   "source": [
    "#### Lemmatization: Get the root words for the tokenized and stopworded body text\n"
   ]
  },
  {
   "cell_type": "code",
   "execution_count": 15,
   "metadata": {
    "collapsed": false
   },
   "outputs": [],
   "source": [
    "wnl = nltk.WordNetLemmatizer()\n",
    "lemmatized_words = []\n",
    "lemmatized_body = []\n",
    "for body in df['stopworded_body']:\n",
    "    # We need to tag words with their parts of speech before the WordNet lemmatizer will work properly\n",
    "    pos_tagged_body = nltk.pos_tag(body)\n",
    "    lemmatized_words = []\n",
    "    for word, tag in pos_tagged_body:\n",
    "        wntag = tag[0].lower()\n",
    "        wntag = wntag if wntag in ['a', 'r', 'n', 'v'] else None\n",
    "        if not wntag:\n",
    "            lemma = word\n",
    "        else:\n",
    "            lemma = wnl.lemmatize(word, wntag)\n",
    "        lemmatized_words.append(lemma)\n",
    "    lemmatized_body.append(lemmatized_words)"
   ]
  },
  {
   "cell_type": "code",
   "execution_count": 16,
   "metadata": {
    "collapsed": false
   },
   "outputs": [],
   "source": [
    "se = pd.Series(lemmatized_body)\n",
    "df['lemmatized_body'] = se.values"
   ]
  },
  {
   "cell_type": "markdown",
   "metadata": {},
   "source": [
    "#### Bag of Words/Frequency Distribution: Get word count from lemmatized text"
   ]
  },
  {
   "cell_type": "code",
   "execution_count": 17,
   "metadata": {
    "collapsed": false
   },
   "outputs": [],
   "source": [
    "word_bag = []\n",
    "for body in df['lemmatized_body']:\n",
    "    fdist = FreqDist(body)\n",
    "    # FreqDist returns a special nltk.probability.FreqDist type\n",
    "    # This is a list of tuples\n",
    "    # Here is an example of how to access the elements for future reference\n",
    "#     print(fdist.most_common())\n",
    "    # Access an individual tuple\n",
    "#     print(fdist.most_common()[0])\n",
    "    # Access the word from the tuple\n",
    "#     print(fdist.most_common()[0][0])\n",
    "    # Access the count from the tuple\n",
    "#     print(fdist.most_common()[0][1])\n",
    "    # Append to list as ordered frequency distribution\n",
    "    word_bag.append(fdist.most_common())\n"
   ]
  },
  {
   "cell_type": "code",
   "execution_count": 18,
   "metadata": {
    "collapsed": true
   },
   "outputs": [],
   "source": [
    "se = pd.Series(word_bag)\n",
    "df['word_bag'] = se.values"
   ]
  },
  {
   "cell_type": "markdown",
   "metadata": {},
   "source": [
    "#### Named Entity Extraction using StanfordNLP Classification Model"
   ]
  },
  {
   "cell_type": "markdown",
   "metadata": {},
   "source": [
    "###### Stanford NLP named entity extractor requires that you download the jar from https://nlp.stanford.edu/software/CRF-NER.shtml#Download, unzip and extract english.all.3class.distsim.crf.ser.gz and stanford-ner.jar, then provide their file paths to StanfordNERTagger below and you may need to install java8 on ubuntu: https://tecadmin.net/install-oracle-java-8-ubuntu-via-ppa/"
   ]
  },
  {
   "cell_type": "code",
   "execution_count": 19,
   "metadata": {
    "collapsed": true
   },
   "outputs": [],
   "source": [
    "st = StanfordNERTagger('/media/justin/Data/Google Drive/Assignments and Projects/Machine Learning/NLP/english.all.3class.distsim.crf.ser.gz',\n",
    "\t\t\t\t\t   '/media/justin/Data/Google Drive/Assignments and Projects/Machine Learning/NLP/stanford-ner.jar',\n",
    "\t\t\t\t\t   encoding='utf-8')"
   ]
  },
  {
   "cell_type": "code",
   "execution_count": 20,
   "metadata": {
    "collapsed": false
   },
   "outputs": [],
   "source": [
    "classified_texts = []\n",
    "for body in df['tokenized_body']:\n",
    "    classified_texts.append(st.tag(body))\n",
    "\n",
    "# print(classified_text)"
   ]
  },
  {
   "cell_type": "markdown",
   "metadata": {},
   "source": [
    "#### Now, if we want to parse the list of tuples returned by the standford classifier into a more easily usable list form, we can take that output, convert it to the standard IOB tag format with stanfordNE2BIO, then parse that into a tree, and traverse the tree to rearrange into a list"
   ]
  },
  {
   "cell_type": "code",
   "execution_count": 21,
   "metadata": {
    "collapsed": false,
    "scrolled": false
   },
   "outputs": [],
   "source": [
    "from nltk import pos_tag\n",
    "from nltk.chunk import conlltags2tree\n",
    "from nltk.tree import Tree\n",
    "\n",
    "def stanfordNE2BIO(tagged_sent):\n",
    "    bio_tagged_sent = []\n",
    "    prev_tag = \"O\"\n",
    "    for token, tag in tagged_sent:\n",
    "        if tag == \"O\": #O\n",
    "            bio_tagged_sent.append((token, tag))\n",
    "            prev_tag = tag\n",
    "            continue\n",
    "        if tag != \"O\" and prev_tag == \"O\": # Begin NE\n",
    "            bio_tagged_sent.append((token, \"B-\"+tag))\n",
    "            prev_tag = tag\n",
    "        elif prev_tag != \"O\" and prev_tag == tag: # Inside NE\n",
    "            bio_tagged_sent.append((token, \"I-\"+tag))\n",
    "            prev_tag = tag\n",
    "        elif prev_tag != \"O\" and prev_tag != tag: # Adjacent NE\n",
    "            bio_tagged_sent.append((token, \"B-\"+tag))\n",
    "            prev_tag = tag\n",
    "\n",
    "    return bio_tagged_sent"
   ]
  },
  {
   "cell_type": "markdown",
   "metadata": {},
   "source": [
    "#### Now convert the IOB tagged tuples into a tree (this can be called with the original stanfordNERTagger output, skipping the explicit call to convert to IOB format)"
   ]
  },
  {
   "cell_type": "code",
   "execution_count": 22,
   "metadata": {
    "collapsed": true
   },
   "outputs": [],
   "source": [
    "def stanfordNE2tree(ne_tagged_sent):\n",
    "    bio_tagged_sent = stanfordNE2BIO(ne_tagged_sent)\n",
    "    sent_tokens, sent_ne_tags = zip(*bio_tagged_sent)\n",
    "    sent_pos_tags = [pos for token, pos in pos_tag(sent_tokens)]\n",
    "\n",
    "    sent_conlltags = [(token, pos, ne) for token, pos, ne in zip(sent_tokens, sent_pos_tags, sent_ne_tags)]\n",
    "    ne_tree = conlltags2tree(sent_conlltags)\n",
    "    return ne_tree\n"
   ]
  },
  {
   "cell_type": "code",
   "execution_count": 23,
   "metadata": {
    "collapsed": false
   },
   "outputs": [],
   "source": [
    "ne_trees = []\n",
    "for text in classified_texts:\n",
    "    ne_trees.append(stanfordNE2tree(text))"
   ]
  },
  {
   "cell_type": "markdown",
   "metadata": {},
   "source": [
    "#### Finally, join the leaves into a formated list of tuples"
   ]
  },
  {
   "cell_type": "code",
   "execution_count": 24,
   "metadata": {
    "collapsed": true
   },
   "outputs": [],
   "source": [
    "ne_in_sent = []\n",
    "ne_in_sents = []\n",
    "for tree in ne_trees:\n",
    "    ne_in_sent = []\n",
    "    for subtree in tree:\n",
    "        if type(subtree) == Tree: # If subtree is a noun chunk, i.e. NE != \"O\"\n",
    "            ne_label = subtree.label()\n",
    "            ne_string = \" \".join([token for token, pos in subtree.leaves()])\n",
    "            ne_in_sent.append((ne_string, ne_label))\n",
    "    ne_in_sents.append(ne_in_sent)"
   ]
  },
  {
   "cell_type": "code",
   "execution_count": 25,
   "metadata": {
    "collapsed": true
   },
   "outputs": [],
   "source": [
    "se = pd.Series(ne_in_sents)\n",
    "df['named_entities'] = se.values"
   ]
  },
  {
   "cell_type": "markdown",
   "metadata": {},
   "source": [
    "#### Lexical diversity is a measure of the complexity, or sophistication, of a text. A higher number means the text has a richer vocabulary and less repetition of words. If the calculation returns 65.23, for example, that means 65.23% of the total words are distinct."
   ]
  },
  {
   "cell_type": "code",
   "execution_count": 26,
   "metadata": {
    "collapsed": false
   },
   "outputs": [],
   "source": [
    "def lexical_diversity(text):\n",
    "    return len(set(text)) / len(text) * 100"
   ]
  },
  {
   "cell_type": "code",
   "execution_count": 27,
   "metadata": {
    "collapsed": false,
    "scrolled": true
   },
   "outputs": [
    {
     "name": "stdout",
     "output_type": "stream",
     "text": [
      "lexical diversity: 69.4610778443\n",
      "lexical diversity: 69.7228144989\n",
      "lexical diversity: 76.8166089965\n",
      "lexical diversity: 73.2558139535\n",
      "lexical diversity: 75.0\n"
     ]
    }
   ],
   "source": [
    "lex_div = []\n",
    "for body in df['stopworded_body']:\n",
    "    lex_div.append(lexical_diversity(body))\n",
    "    print(\"lexical diversity: \" + str(lexical_diversity(body)))"
   ]
  },
  {
   "cell_type": "code",
   "execution_count": 28,
   "metadata": {
    "collapsed": true
   },
   "outputs": [],
   "source": [
    "se = pd.Series(lex_div)\n",
    "df['lexical_diversity'] = se.values"
   ]
  },
  {
   "cell_type": "code",
   "execution_count": 29,
   "metadata": {
    "collapsed": false,
    "scrolled": true
   },
   "outputs": [
    {
     "data": {
      "text/html": [
       "<div>\n",
       "<table border=\"1\" class=\"dataframe\">\n",
       "  <thead>\n",
       "    <tr style=\"text-align: right;\">\n",
       "      <th></th>\n",
       "      <th>site</th>\n",
       "      <th>title</th>\n",
       "      <th>author</th>\n",
       "      <th>published_on</th>\n",
       "      <th>accessed_on</th>\n",
       "      <th>url</th>\n",
       "      <th>body</th>\n",
       "      <th>newspaper_keywords</th>\n",
       "      <th>newspaper_summary</th>\n",
       "      <th>id</th>\n",
       "      <th>tokenized_body</th>\n",
       "      <th>word_count</th>\n",
       "      <th>stopworded_body</th>\n",
       "      <th>lemmatized_body</th>\n",
       "      <th>word_bag</th>\n",
       "      <th>named_entities</th>\n",
       "      <th>lexical_diversity</th>\n",
       "    </tr>\n",
       "  </thead>\n",
       "  <tbody>\n",
       "    <tr>\n",
       "      <th>0</th>\n",
       "      <td>Breitbart</td>\n",
       "      <td>Trump: ‘We’re Doing Very Well in Iraq,’ U.S. T...</td>\n",
       "      <td>John Hayward</td>\n",
       "      <td>2017-03-29</td>\n",
       "      <td>2017-03-31 08:20:09.478760</td>\n",
       "      <td>http://www.breitbart.com/national-security/201...</td>\n",
       "      <td>SIGN UP FOR OUR NEWSLETTER  On Tuesday, Presid...</td>\n",
       "      <td>{war,told,secretary,soldiers,taking,iraq,presi...</td>\n",
       "      <td>SIGN UP FOR OUR NEWSLETTEROn Tuesday, Presiden...</td>\n",
       "      <td>981</td>\n",
       "      <td>[SIGN, UP, FOR, OUR, NEWSLETTER, On, Tuesday, ...</td>\n",
       "      <td>595</td>\n",
       "      <td>[sign, up, for, our, newsletter, on, tuesday, ...</td>\n",
       "      <td>[sign, up, for, our, newsletter, on, tuesday, ...</td>\n",
       "      <td>[(iraq, 8), (troop, 6), (fight, 5), (trump, 5)...</td>\n",
       "      <td>[(Trump, PERSON), (White House, ORGANIZATION),...</td>\n",
       "      <td>69.461078</td>\n",
       "    </tr>\n",
       "    <tr>\n",
       "      <th>1</th>\n",
       "      <td>Breitbart</td>\n",
       "      <td>Top U.S. General: ‘We Have Not Relaxed the Rul...</td>\n",
       "      <td>Edwin Mora</td>\n",
       "      <td>2017-03-29</td>\n",
       "      <td>2017-03-31 08:20:14.741313</td>\n",
       "      <td>http://www.breitbart.com/national-security/201...</td>\n",
       "      <td>SIGN UP FOR OUR NEWSLETTER  WASHINGTON, D.C. —...</td>\n",
       "      <td>{gen,rules,responsibility,engagement,military,...</td>\n",
       "      <td>We have not relaxed the rules of engagement.\\n...</td>\n",
       "      <td>982</td>\n",
       "      <td>[SIGN, UP, FOR, OUR, NEWSLETTER, WASHINGTON, ,...</td>\n",
       "      <td>831</td>\n",
       "      <td>[sign, up, for, our, newsletter, washington, d...</td>\n",
       "      <td>[sign, up, for, our, newsletter, washington, d...</td>\n",
       "      <td>[(mosul, 10), (civilian, 9), (gen., 8), (u.s.,...</td>\n",
       "      <td>[(WASHINGTON, LOCATION), (D.C., LOCATION), (U....</td>\n",
       "      <td>69.722814</td>\n",
       "    </tr>\n",
       "    <tr>\n",
       "      <th>2</th>\n",
       "      <td>Breitbart</td>\n",
       "      <td>Protests in Paris Continue for Third Night Aft...</td>\n",
       "      <td>Oliver Jj Lane</td>\n",
       "      <td>2017-03-30</td>\n",
       "      <td>2017-03-31 08:20:18.922523</td>\n",
       "      <td>http://www.breitbart.com/london/2017/03/30/pro...</td>\n",
       "      <td>SIGN UP FOR OUR NEWSLETTER  Hundreds of “Asian...</td>\n",
       "      <td>{night,protest,paris,killed,france,chinese,sub...</td>\n",
       "      <td>SIGN UP FOR OUR NEWSLETTERHundreds of “Asians”...</td>\n",
       "      <td>983</td>\n",
       "      <td>[SIGN, UP, FOR, OUR, NEWSLETTER, Hundreds, of,...</td>\n",
       "      <td>528</td>\n",
       "      <td>[sign, up, for, our, newsletter, hundreds, “as...</td>\n",
       "      <td>[sign, up, for, our, newsletter, hundred, “asi...</td>\n",
       "      <td>[(police, 13), (protest, 8), (chinese, 6), (pa...</td>\n",
       "      <td>[(Paris, LOCATION), (Paris, LOCATION), (Shaoyo...</td>\n",
       "      <td>76.816609</td>\n",
       "    </tr>\n",
       "    <tr>\n",
       "      <th>3</th>\n",
       "      <td>Breitbart</td>\n",
       "      <td>Rep. Jim Jordan: Working with Dems on Health C...</td>\n",
       "      <td>Dan Riehl</td>\n",
       "      <td>2017-03-30</td>\n",
       "      <td>2017-03-31 08:20:25.141342</td>\n",
       "      <td>http://www.breitbart.com/radio/2017/03/30/rep-...</td>\n",
       "      <td>SIGN UP FOR OUR NEWSLETTER  Rep. Jim Jordan (R...</td>\n",
       "      <td>{come,jim,healthcare,reform,werent,working,mis...</td>\n",
       "      <td>SIGN UP FOR OUR NEWSLETTERRep. Jim Jordan (R-O...</td>\n",
       "      <td>984</td>\n",
       "      <td>[SIGN, UP, FOR, OUR, NEWSLETTER, Rep., Jim, Jo...</td>\n",
       "      <td>451</td>\n",
       "      <td>[sign, up, for, our, newsletter, rep., jim, jo...</td>\n",
       "      <td>[sign, up, for, our, newsletter, rep., jim, jo...</td>\n",
       "      <td>[(jordan, 8), (get, 4), (come, 4), (repeal, 4)...</td>\n",
       "      <td>[(Jim Jordan, PERSON), (Breitbart News Daily S...</td>\n",
       "      <td>73.255814</td>\n",
       "    </tr>\n",
       "    <tr>\n",
       "      <th>4</th>\n",
       "      <td>Breitbart</td>\n",
       "      <td>John McCain in Last-Minute Attempt to Avert Go...</td>\n",
       "      <td>Ian Mason</td>\n",
       "      <td>2017-03-30</td>\n",
       "      <td>2017-03-31 08:20:29.304708</td>\n",
       "      <td>http://www.breitbart.com/big-government/2017/0...</td>\n",
       "      <td>SIGN UP FOR OUR NEWSLETTER  Sen. John McCain (...</td>\n",
       "      <td>{constitutional,john,supreme,court,attempt,mcc...</td>\n",
       "      <td>SIGN UP FOR OUR NEWSLETTERSen. John McCain (R-...</td>\n",
       "      <td>985</td>\n",
       "      <td>[SIGN, UP, FOR, OUR, NEWSLETTER, Sen., John, M...</td>\n",
       "      <td>405</td>\n",
       "      <td>[sign, up, for, our, newsletter, sen., john, m...</td>\n",
       "      <td>[sign, up, for, our, newsletter, sen., john, m...</td>\n",
       "      <td>[(sen., 5), (senate, 5), (thursday, 4), (gorsu...</td>\n",
       "      <td>[(John McCain, PERSON), (Judge Neil Gorsuch’s ...</td>\n",
       "      <td>75.000000</td>\n",
       "    </tr>\n",
       "  </tbody>\n",
       "</table>\n",
       "</div>"
      ],
      "text/plain": [
       "        site                                              title  \\\n",
       "0  Breitbart  Trump: ‘We’re Doing Very Well in Iraq,’ U.S. T...   \n",
       "1  Breitbart  Top U.S. General: ‘We Have Not Relaxed the Rul...   \n",
       "2  Breitbart  Protests in Paris Continue for Third Night Aft...   \n",
       "3  Breitbart  Rep. Jim Jordan: Working with Dems on Health C...   \n",
       "4  Breitbart  John McCain in Last-Minute Attempt to Avert Go...   \n",
       "\n",
       "           author published_on                accessed_on  \\\n",
       "0    John Hayward   2017-03-29 2017-03-31 08:20:09.478760   \n",
       "1      Edwin Mora   2017-03-29 2017-03-31 08:20:14.741313   \n",
       "2  Oliver Jj Lane   2017-03-30 2017-03-31 08:20:18.922523   \n",
       "3       Dan Riehl   2017-03-30 2017-03-31 08:20:25.141342   \n",
       "4       Ian Mason   2017-03-30 2017-03-31 08:20:29.304708   \n",
       "\n",
       "                                                 url  \\\n",
       "0  http://www.breitbart.com/national-security/201...   \n",
       "1  http://www.breitbart.com/national-security/201...   \n",
       "2  http://www.breitbart.com/london/2017/03/30/pro...   \n",
       "3  http://www.breitbart.com/radio/2017/03/30/rep-...   \n",
       "4  http://www.breitbart.com/big-government/2017/0...   \n",
       "\n",
       "                                                body  \\\n",
       "0  SIGN UP FOR OUR NEWSLETTER  On Tuesday, Presid...   \n",
       "1  SIGN UP FOR OUR NEWSLETTER  WASHINGTON, D.C. —...   \n",
       "2  SIGN UP FOR OUR NEWSLETTER  Hundreds of “Asian...   \n",
       "3  SIGN UP FOR OUR NEWSLETTER  Rep. Jim Jordan (R...   \n",
       "4  SIGN UP FOR OUR NEWSLETTER  Sen. John McCain (...   \n",
       "\n",
       "                                  newspaper_keywords  \\\n",
       "0  {war,told,secretary,soldiers,taking,iraq,presi...   \n",
       "1  {gen,rules,responsibility,engagement,military,...   \n",
       "2  {night,protest,paris,killed,france,chinese,sub...   \n",
       "3  {come,jim,healthcare,reform,werent,working,mis...   \n",
       "4  {constitutional,john,supreme,court,attempt,mcc...   \n",
       "\n",
       "                                   newspaper_summary   id  \\\n",
       "0  SIGN UP FOR OUR NEWSLETTEROn Tuesday, Presiden...  981   \n",
       "1  We have not relaxed the rules of engagement.\\n...  982   \n",
       "2  SIGN UP FOR OUR NEWSLETTERHundreds of “Asians”...  983   \n",
       "3  SIGN UP FOR OUR NEWSLETTERRep. Jim Jordan (R-O...  984   \n",
       "4  SIGN UP FOR OUR NEWSLETTERSen. John McCain (R-...  985   \n",
       "\n",
       "                                      tokenized_body  word_count  \\\n",
       "0  [SIGN, UP, FOR, OUR, NEWSLETTER, On, Tuesday, ...         595   \n",
       "1  [SIGN, UP, FOR, OUR, NEWSLETTER, WASHINGTON, ,...         831   \n",
       "2  [SIGN, UP, FOR, OUR, NEWSLETTER, Hundreds, of,...         528   \n",
       "3  [SIGN, UP, FOR, OUR, NEWSLETTER, Rep., Jim, Jo...         451   \n",
       "4  [SIGN, UP, FOR, OUR, NEWSLETTER, Sen., John, M...         405   \n",
       "\n",
       "                                     stopworded_body  \\\n",
       "0  [sign, up, for, our, newsletter, on, tuesday, ...   \n",
       "1  [sign, up, for, our, newsletter, washington, d...   \n",
       "2  [sign, up, for, our, newsletter, hundreds, “as...   \n",
       "3  [sign, up, for, our, newsletter, rep., jim, jo...   \n",
       "4  [sign, up, for, our, newsletter, sen., john, m...   \n",
       "\n",
       "                                     lemmatized_body  \\\n",
       "0  [sign, up, for, our, newsletter, on, tuesday, ...   \n",
       "1  [sign, up, for, our, newsletter, washington, d...   \n",
       "2  [sign, up, for, our, newsletter, hundred, “asi...   \n",
       "3  [sign, up, for, our, newsletter, rep., jim, jo...   \n",
       "4  [sign, up, for, our, newsletter, sen., john, m...   \n",
       "\n",
       "                                            word_bag  \\\n",
       "0  [(iraq, 8), (troop, 6), (fight, 5), (trump, 5)...   \n",
       "1  [(mosul, 10), (civilian, 9), (gen., 8), (u.s.,...   \n",
       "2  [(police, 13), (protest, 8), (chinese, 6), (pa...   \n",
       "3  [(jordan, 8), (get, 4), (come, 4), (repeal, 4)...   \n",
       "4  [(sen., 5), (senate, 5), (thursday, 4), (gorsu...   \n",
       "\n",
       "                                      named_entities  lexical_diversity  \n",
       "0  [(Trump, PERSON), (White House, ORGANIZATION),...          69.461078  \n",
       "1  [(WASHINGTON, LOCATION), (D.C., LOCATION), (U....          69.722814  \n",
       "2  [(Paris, LOCATION), (Paris, LOCATION), (Shaoyo...          76.816609  \n",
       "3  [(Jim Jordan, PERSON), (Breitbart News Daily S...          73.255814  \n",
       "4  [(John McCain, PERSON), (Judge Neil Gorsuch’s ...          75.000000  "
      ]
     },
     "execution_count": 29,
     "metadata": {},
     "output_type": "execute_result"
    }
   ],
   "source": [
    "df"
   ]
  },
  {
   "cell_type": "code",
   "execution_count": 34,
   "metadata": {
    "collapsed": false
   },
   "outputs": [
    {
     "name": "stdout",
     "output_type": "stream",
     "text": [
      "http://www.breitbart.com/national-security/2017/03/29/trump-were-doing-very-well-in-iraq-u-s-troops-fighting-like-never-before/#disqus_thread\n",
      "http://www.breitbart.com/national-security/2017/03/29/top-u-s-gen-we-have-not-relaxed-the-rules-of-engagement-for-avoiding-civilian-casualties/#disqus_thread\n",
      "http://www.breitbart.com/london/2017/03/30/protests-paris-chinese-citizen-killed-police/#disqus_thread\n",
      "http://www.breitbart.com/radio/2017/03/30/rep-jordan-working-dems-health-care-would-be-big-mistake/#disqus_thread\n",
      "http://www.breitbart.com/big-government/2017/03/30/john-mccain-in-last-minute-attempt-to-avert-gorsuch-constitutional-option/#disqus_thread\n"
     ]
    }
   ],
   "source": [
    "for article in df['url']:\n",
    "    print(article)"
   ]
  },
  {
   "cell_type": "code",
   "execution_count": null,
   "metadata": {
    "collapsed": true
   },
   "outputs": [],
   "source": []
  },
  {
   "cell_type": "markdown",
   "metadata": {},
   "source": [
    "#### Sentiment Analysis"
   ]
  },
  {
   "cell_type": "markdown",
   "metadata": {},
   "source": [
    "#### We'll need to break the articles apart by sentence to do almost any form of sentiment analysis."
   ]
  },
  {
   "cell_type": "code",
   "execution_count": null,
   "metadata": {
    "collapsed": true
   },
   "outputs": [],
   "source": []
  },
  {
   "cell_type": "code",
   "execution_count": 30,
   "metadata": {
    "collapsed": true
   },
   "outputs": [
    {
     "name": "stderr",
     "output_type": "stream",
     "text": [
      "/home/justin/anaconda2/lib/python2.7/site-packages/nltk/twitter/__init__.py:20: UserWarning: The twython library has not been installed. Some functionality from the twitter package will not be available.\n",
      "  warnings.warn(\"The twython library has not been installed. \"\n"
     ]
    }
   ],
   "source": [
    "from nltk.sentiment.vader import SentimentIntensityAnalyzer"
   ]
  },
  {
   "cell_type": "code",
   "execution_count": 38,
   "metadata": {
    "collapsed": false,
    "scrolled": true
   },
   "outputs": [
    {
     "name": "stdout",
     "output_type": "stream",
     "text": [
      "Trump: ‘We’re Doing Very Well in Iraq,’ U.S. Troops ‘Fighting Like Never Before’\n",
      "{'neg': 0.082, 'neu': 0.82, 'pos': 0.098, 'compound': 0.8501}\n",
      "http://www.breitbart.com/national-security/2017/03/29/trump-were-doing-very-well-in-iraq-u-s-troops-fighting-like-never-before/#disqus_thread\n",
      "Top U.S. General: ‘We Have Not Relaxed the Rules of Engagement’ in Mosul\n",
      "{'neg': 0.094, 'neu': 0.821, 'pos': 0.086, 'compound': -0.9335}\n",
      "http://www.breitbart.com/national-security/2017/03/29/top-u-s-gen-we-have-not-relaxed-the-rules-of-engagement-for-avoiding-civilian-casualties/#disqus_thread\n",
      "Protests in Paris Continue for Third Night After Chinese Citizen Killed by Police\n",
      "{'neg': 0.152, 'neu': 0.816, 'pos': 0.032, 'compound': -0.9954}\n",
      "http://www.breitbart.com/london/2017/03/30/protests-paris-chinese-citizen-killed-police/#disqus_thread\n",
      "Rep. Jim Jordan: Working with Dems on Health Care Would Be ‘a Big Mistake’\n",
      "{'neg': 0.035, 'neu': 0.92, 'pos': 0.045, 'compound': 0.3384}\n",
      "http://www.breitbart.com/radio/2017/03/30/rep-jordan-working-dems-health-care-would-be-big-mistake/#disqus_thread\n",
      "John McCain in Last-Minute Attempt to Avert Gorsuch Constitutional Option\n",
      "{'neg': 0.039, 'neu': 0.843, 'pos': 0.118, 'compound': 0.9722}\n",
      "http://www.breitbart.com/big-government/2017/03/30/john-mccain-in-last-minute-attempt-to-avert-gorsuch-constitutional-option/#disqus_thread\n"
     ]
    }
   ],
   "source": [
    "for x in range(5):\n",
    "    print(df['title'][x])\n",
    "    sentence=df['body'][x]\n",
    "    sid = SentimentIntensityAnalyzer()\n",
    "    ss = sid.polarity_scores(sentence)\n",
    "    print(ss)\n",
    "    print(df['url'][x])"
   ]
  },
  {
   "cell_type": "code",
   "execution_count": null,
   "metadata": {
    "collapsed": true
   },
   "outputs": [],
   "source": []
  }
 ],
 "metadata": {
  "kernelspec": {
   "display_name": "Python 2",
   "language": "python",
   "name": "python2"
  },
  "language_info": {
   "codemirror_mode": {
    "name": "ipython",
    "version": 2
   },
   "file_extension": ".py",
   "mimetype": "text/x-python",
   "name": "python",
   "nbconvert_exporter": "python",
   "pygments_lexer": "ipython2",
   "version": "2.7.13"
  }
 },
 "nbformat": 4,
 "nbformat_minor": 0
}
