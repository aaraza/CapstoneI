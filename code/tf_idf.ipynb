{
 "cells": [
  {
   "cell_type": "code",
   "execution_count": 1,
   "metadata": {
    "collapsed": true
   },
   "outputs": [],
   "source": [
    "import pandas as pd\n",
    "import psycopg2"
   ]
  },
  {
   "cell_type": "code",
   "execution_count": 2,
   "metadata": {},
   "outputs": [],
   "source": [
    "conn = psycopg2.connect(\"dbname='cap' user='postgres' host='ec2-52-27-114-159.us-west-2.compute.amazonaws.com' port=9000 password ='secret'\")\n",
    "data = pd.read_sql_query(\"SELECT * FROM articles LIMIT 5\", conn)"
   ]
  },
  {
   "cell_type": "code",
   "execution_count": 3,
   "metadata": {},
   "outputs": [
    {
     "data": {
      "text/html": [
       "<div>\n",
       "<table border=\"1\" class=\"dataframe\">\n",
       "  <thead>\n",
       "    <tr style=\"text-align: right;\">\n",
       "      <th></th>\n",
       "      <th>site</th>\n",
       "      <th>title</th>\n",
       "      <th>author</th>\n",
       "      <th>published_on</th>\n",
       "      <th>accessed_on</th>\n",
       "      <th>url</th>\n",
       "      <th>body</th>\n",
       "      <th>newspaper_keywords</th>\n",
       "      <th>newspaper_summary</th>\n",
       "      <th>id</th>\n",
       "    </tr>\n",
       "  </thead>\n",
       "  <tbody>\n",
       "    <tr>\n",
       "      <th>0</th>\n",
       "      <td>Breitbart</td>\n",
       "      <td>Trump: ‘We’re Doing Very Well in Iraq,’ U.S. T...</td>\n",
       "      <td>John Hayward</td>\n",
       "      <td>2017-03-29</td>\n",
       "      <td>2017-03-31 08:20:09.478760</td>\n",
       "      <td>http://www.breitbart.com/national-security/201...</td>\n",
       "      <td>SIGN UP FOR OUR NEWSLETTER  On Tuesday, Presid...</td>\n",
       "      <td>{war,told,secretary,soldiers,taking,iraq,presi...</td>\n",
       "      <td>SIGN UP FOR OUR NEWSLETTEROn Tuesday, Presiden...</td>\n",
       "      <td>981</td>\n",
       "    </tr>\n",
       "    <tr>\n",
       "      <th>1</th>\n",
       "      <td>Breitbart</td>\n",
       "      <td>Top U.S. General: ‘We Have Not Relaxed the Rul...</td>\n",
       "      <td>Edwin Mora</td>\n",
       "      <td>2017-03-29</td>\n",
       "      <td>2017-03-31 08:20:14.741313</td>\n",
       "      <td>http://www.breitbart.com/national-security/201...</td>\n",
       "      <td>SIGN UP FOR OUR NEWSLETTER  WASHINGTON, D.C. —...</td>\n",
       "      <td>{gen,rules,responsibility,engagement,military,...</td>\n",
       "      <td>We have not relaxed the rules of engagement.\\n...</td>\n",
       "      <td>982</td>\n",
       "    </tr>\n",
       "    <tr>\n",
       "      <th>2</th>\n",
       "      <td>Breitbart</td>\n",
       "      <td>Protests in Paris Continue for Third Night Aft...</td>\n",
       "      <td>Oliver Jj Lane</td>\n",
       "      <td>2017-03-30</td>\n",
       "      <td>2017-03-31 08:20:18.922523</td>\n",
       "      <td>http://www.breitbart.com/london/2017/03/30/pro...</td>\n",
       "      <td>SIGN UP FOR OUR NEWSLETTER  Hundreds of “Asian...</td>\n",
       "      <td>{night,protest,paris,killed,france,chinese,sub...</td>\n",
       "      <td>SIGN UP FOR OUR NEWSLETTERHundreds of “Asians”...</td>\n",
       "      <td>983</td>\n",
       "    </tr>\n",
       "    <tr>\n",
       "      <th>3</th>\n",
       "      <td>Breitbart</td>\n",
       "      <td>Rep. Jim Jordan: Working with Dems on Health C...</td>\n",
       "      <td>Dan Riehl</td>\n",
       "      <td>2017-03-30</td>\n",
       "      <td>2017-03-31 08:20:25.141342</td>\n",
       "      <td>http://www.breitbart.com/radio/2017/03/30/rep-...</td>\n",
       "      <td>SIGN UP FOR OUR NEWSLETTER  Rep. Jim Jordan (R...</td>\n",
       "      <td>{come,jim,healthcare,reform,werent,working,mis...</td>\n",
       "      <td>SIGN UP FOR OUR NEWSLETTERRep. Jim Jordan (R-O...</td>\n",
       "      <td>984</td>\n",
       "    </tr>\n",
       "    <tr>\n",
       "      <th>4</th>\n",
       "      <td>Breitbart</td>\n",
       "      <td>John McCain in Last-Minute Attempt to Avert Go...</td>\n",
       "      <td>Ian Mason</td>\n",
       "      <td>2017-03-30</td>\n",
       "      <td>2017-03-31 08:20:29.304708</td>\n",
       "      <td>http://www.breitbart.com/big-government/2017/0...</td>\n",
       "      <td>SIGN UP FOR OUR NEWSLETTER  Sen. John McCain (...</td>\n",
       "      <td>{constitutional,john,supreme,court,attempt,mcc...</td>\n",
       "      <td>SIGN UP FOR OUR NEWSLETTERSen. John McCain (R-...</td>\n",
       "      <td>985</td>\n",
       "    </tr>\n",
       "  </tbody>\n",
       "</table>\n",
       "</div>"
      ],
      "text/plain": [
       "        site                                              title  \\\n",
       "0  Breitbart  Trump: ‘We’re Doing Very Well in Iraq,’ U.S. T...   \n",
       "1  Breitbart  Top U.S. General: ‘We Have Not Relaxed the Rul...   \n",
       "2  Breitbart  Protests in Paris Continue for Third Night Aft...   \n",
       "3  Breitbart  Rep. Jim Jordan: Working with Dems on Health C...   \n",
       "4  Breitbart  John McCain in Last-Minute Attempt to Avert Go...   \n",
       "\n",
       "           author published_on                accessed_on  \\\n",
       "0    John Hayward   2017-03-29 2017-03-31 08:20:09.478760   \n",
       "1      Edwin Mora   2017-03-29 2017-03-31 08:20:14.741313   \n",
       "2  Oliver Jj Lane   2017-03-30 2017-03-31 08:20:18.922523   \n",
       "3       Dan Riehl   2017-03-30 2017-03-31 08:20:25.141342   \n",
       "4       Ian Mason   2017-03-30 2017-03-31 08:20:29.304708   \n",
       "\n",
       "                                                 url  \\\n",
       "0  http://www.breitbart.com/national-security/201...   \n",
       "1  http://www.breitbart.com/national-security/201...   \n",
       "2  http://www.breitbart.com/london/2017/03/30/pro...   \n",
       "3  http://www.breitbart.com/radio/2017/03/30/rep-...   \n",
       "4  http://www.breitbart.com/big-government/2017/0...   \n",
       "\n",
       "                                                body  \\\n",
       "0  SIGN UP FOR OUR NEWSLETTER  On Tuesday, Presid...   \n",
       "1  SIGN UP FOR OUR NEWSLETTER  WASHINGTON, D.C. —...   \n",
       "2  SIGN UP FOR OUR NEWSLETTER  Hundreds of “Asian...   \n",
       "3  SIGN UP FOR OUR NEWSLETTER  Rep. Jim Jordan (R...   \n",
       "4  SIGN UP FOR OUR NEWSLETTER  Sen. John McCain (...   \n",
       "\n",
       "                                  newspaper_keywords  \\\n",
       "0  {war,told,secretary,soldiers,taking,iraq,presi...   \n",
       "1  {gen,rules,responsibility,engagement,military,...   \n",
       "2  {night,protest,paris,killed,france,chinese,sub...   \n",
       "3  {come,jim,healthcare,reform,werent,working,mis...   \n",
       "4  {constitutional,john,supreme,court,attempt,mcc...   \n",
       "\n",
       "                                   newspaper_summary   id  \n",
       "0  SIGN UP FOR OUR NEWSLETTEROn Tuesday, Presiden...  981  \n",
       "1  We have not relaxed the rules of engagement.\\n...  982  \n",
       "2  SIGN UP FOR OUR NEWSLETTERHundreds of “Asians”...  983  \n",
       "3  SIGN UP FOR OUR NEWSLETTERRep. Jim Jordan (R-O...  984  \n",
       "4  SIGN UP FOR OUR NEWSLETTERSen. John McCain (R-...  985  "
      ]
     },
     "execution_count": 3,
     "metadata": {},
     "output_type": "execute_result"
    }
   ],
   "source": [
    "data.head()"
   ]
  },
  {
   "cell_type": "markdown",
   "metadata": {},
   "source": [
    "## TF IDF outline \n",
    "\n",
    "- list of articles bodies \n",
    "- feed list into function to make a sparse matrix for training\n",
    "- use that with tf-idf stuff above to create a tf-idf transformer \n",
    "- use that to label every individual article with tf-idf vectors in a database table\n"
   ]
  },
  {
   "cell_type": "code",
   "execution_count": 4,
   "metadata": {},
   "outputs": [
    {
     "name": "stdout",
     "output_type": "stream",
     "text": [
      "<class 'pandas.core.frame.DataFrame'>\n",
      "RangeIndex: 5 entries, 0 to 4\n",
      "Data columns (total 10 columns):\n",
      "site                  5 non-null object\n",
      "title                 5 non-null object\n",
      "author                5 non-null object\n",
      "published_on          5 non-null object\n",
      "accessed_on           5 non-null datetime64[ns]\n",
      "url                   5 non-null object\n",
      "body                  5 non-null object\n",
      "newspaper_keywords    5 non-null object\n",
      "newspaper_summary     5 non-null object\n",
      "id                    5 non-null int64\n",
      "dtypes: datetime64[ns](1), int64(1), object(8)\n",
      "memory usage: 480.0+ bytes\n"
     ]
    }
   ],
   "source": [
    "data.info()"
   ]
  },
  {
   "cell_type": "code",
   "execution_count": 5,
   "metadata": {
    "collapsed": true
   },
   "outputs": [],
   "source": [
    "from sklearn.feature_extraction.text import CountVectorizer, TfidfTransformer, TfidfVectorizer\n",
    "\n",
    "# transforms data into tfidf matrix representation\n",
    "vectorizer = TfidfVectorizer(max_df=0.5, max_features=100,\n",
    "                                 min_df=2, use_idf=True)\n"
   ]
  },
  {
   "cell_type": "code",
   "execution_count": 6,
   "metadata": {},
   "outputs": [
    {
     "data": {
      "text/plain": [
       "<5x100 sparse matrix of type '<class 'numpy.float64'>'\n",
       "\twith 200 stored elements in Compressed Sparse Row format>"
      ]
     },
     "execution_count": 6,
     "metadata": {},
     "output_type": "execute_result"
    }
   ],
   "source": [
    "# fit our data (list of article bodies) to a tfidf representation\n",
    "X = vectorizer.fit_transform(data.body)\n",
    "\n",
    "# verify we have a sparse matrix of 100 tfidf features for each article \n",
    "# should be 5*100 sparse matrix\n",
    "X"
   ]
  },
  {
   "cell_type": "code",
   "execution_count": 7,
   "metadata": {},
   "outputs": [],
   "source": [
    "from sklearn.cluster import KMeans\n",
    "\n",
    "# How many clusters we want\n",
    "true_k = 3\n",
    "\n",
    "# create the KMeans object with initial settings\n",
    "km = KMeans(n_clusters=true_k, init='k-means++', max_iter=100, n_init=1,\n",
    "                verbose=True)"
   ]
  },
  {
   "cell_type": "code",
   "execution_count": 8,
   "metadata": {},
   "outputs": [
    {
     "name": "stdout",
     "output_type": "stream",
     "text": [
      "Initialization complete\n",
      "Iteration  0, inertia 2.741\n",
      "Iteration  1, inertia 1.371\n",
      "Converged at iteration 1: center shift 0.000000e+00 within tolerance 6.759821e-07\n"
     ]
    },
    {
     "data": {
      "text/plain": [
       "KMeans(algorithm='auto', copy_x=True, init='k-means++', max_iter=100,\n",
       "    n_clusters=3, n_init=1, n_jobs=1, precompute_distances='auto',\n",
       "    random_state=None, tol=0.0001, verbose=True)"
      ]
     },
     "execution_count": 8,
     "metadata": {},
     "output_type": "execute_result"
    }
   ],
   "source": [
    "# fit our tfidf data to the kmeans model\n",
    "km.fit(X)"
   ]
  },
  {
   "cell_type": "code",
   "execution_count": 9,
   "metadata": {},
   "outputs": [
    {
     "name": "stdout",
     "output_type": "stream",
     "text": [
      " iraq mosul civilian them when its democrats thursday republicans"
     ]
    }
   ],
   "source": [
    "terms = vectorizer.get_feature_names()\n",
    "order_centroids = km.cluster_centers_.argsort()[:, ::-1]\n",
    "\n",
    "for i in range(3):\n",
    "    for ind in order_centroids[i, :3]:\n",
    "            print(' %s' % terms[ind], end='')"
   ]
  },
  {
   "cell_type": "code",
   "execution_count": null,
   "metadata": {
    "collapsed": true
   },
   "outputs": [],
   "source": []
  }
 ],
 "metadata": {
  "kernelspec": {
   "display_name": "Python 3",
   "language": "python",
   "name": "python3"
  },
  "language_info": {
   "codemirror_mode": {
    "name": "ipython",
    "version": 3
   },
   "file_extension": ".py",
   "mimetype": "text/x-python",
   "name": "python",
   "nbconvert_exporter": "python",
   "pygments_lexer": "ipython3",
   "version": "3.5.2"
  }
 },
 "nbformat": 4,
 "nbformat_minor": 2
}
