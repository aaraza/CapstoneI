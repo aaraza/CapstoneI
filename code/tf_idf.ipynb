{
 "cells": [
  {
   "cell_type": "code",
   "execution_count": 1,
   "metadata": {
    "collapsed": true
   },
   "outputs": [],
   "source": [
    "import pandas as pd\n",
    "import psycopg2"
   ]
  },
  {
   "cell_type": "code",
   "execution_count": 2,
   "metadata": {
    "collapsed": true
   },
   "outputs": [],
   "source": [
    "conn = psycopg2.connect(\"dbname='cap' user='postgres' host='ec2-52-27-114-159.us-west-2.compute.amazonaws.com' port=9000 password ='secret'\")\n",
    "data = pd.read_sql_query(\"SELECT * FROM nlp_dim LIMIT 5\", conn)"
   ]
  },
  {
   "cell_type": "code",
   "execution_count": 3,
   "metadata": {},
   "outputs": [
    {
     "data": {
      "text/html": [
       "<div>\n",
       "<table border=\"1\" class=\"dataframe\">\n",
       "  <thead>\n",
       "    <tr style=\"text-align: right;\">\n",
       "      <th></th>\n",
       "      <th>article_id</th>\n",
       "      <th>tokenized_body</th>\n",
       "      <th>word_count</th>\n",
       "      <th>stopworded_body</th>\n",
       "      <th>lemmatized_body</th>\n",
       "      <th>word_bag</th>\n",
       "      <th>named_entities</th>\n",
       "      <th>lexical_diversity</th>\n",
       "    </tr>\n",
       "  </thead>\n",
       "  <tbody>\n",
       "    <tr>\n",
       "      <th>0</th>\n",
       "      <td>1</td>\n",
       "      <td>{Story,highlights,Attack,at,the,heart,of,UK,'s...</td>\n",
       "      <td>369</td>\n",
       "      <td>{story,highlights,attack,heart,uk,capital,late...</td>\n",
       "      <td>{story,highlight,attack,heart,uk,capital,lates...</td>\n",
       "      <td>{\"(attack,8)\",\"(london,5)\",\"(state,4)\",\"(terro...</td>\n",
       "      <td>{\"(UK,LOCATION)\",\"(\\\"Peter Bergen\\\",PERSON)\",\"...</td>\n",
       "      <td>73.423423</td>\n",
       "    </tr>\n",
       "    <tr>\n",
       "      <th>1</th>\n",
       "      <td>2</td>\n",
       "      <td>{(,CNN,),The,perfect,bar,\",\",like,the,perfect,...</td>\n",
       "      <td>3145</td>\n",
       "      <td>{cnn,the,perfect,bar,like,perfect,cocktail,car...</td>\n",
       "      <td>{cnn,the,perfect,bar,like,perfect,cocktail,car...</td>\n",
       "      <td>{\"(:,71)\",\"(belfast,57)\",\"(the,47)\",\"(``,46)\",...</td>\n",
       "      <td>{\"(\\\"New York\\\",LOCATION)\",\"(\\\"Dead Rabbit Gro...</td>\n",
       "      <td>39.760292</td>\n",
       "    </tr>\n",
       "    <tr>\n",
       "      <th>2</th>\n",
       "      <td>4</td>\n",
       "      <td>{A,fundraiser,for,the,family,of,the,police,off...</td>\n",
       "      <td>545</td>\n",
       "      <td>{a,fundraiser,family,police,officer,killed,wed...</td>\n",
       "      <td>{a,fundraiser,family,police,officer,kill,wedne...</td>\n",
       "      <td>{\"(“,11)\",\"(palmer,8)\",\"(”,8)\",\"(police,6)\",\"(...</td>\n",
       "      <td>{}</td>\n",
       "      <td>63.311688</td>\n",
       "    </tr>\n",
       "    <tr>\n",
       "      <th>3</th>\n",
       "      <td>5</td>\n",
       "      <td>{Seven,Words,the,Feds,Ca,n't,Say,Shortly,after...</td>\n",
       "      <td>756</td>\n",
       "      <td>{seven,words,feds,ca,n't,say,shortly,donald,tr...</td>\n",
       "      <td>{seven,word,fed,ca,n't,say,shortly,donald,trum...</td>\n",
       "      <td>{\"(climate,30)\",\"(change,26)\",\"(little,20)\",\"(...</td>\n",
       "      <td>{\"(\\\"Donald Trump\\\",PERSON)\",\"(\\\"Trump Blocks ...</td>\n",
       "      <td>42.710472</td>\n",
       "    </tr>\n",
       "    <tr>\n",
       "      <th>4</th>\n",
       "      <td>6</td>\n",
       "      <td>{When,a,patient,arrives,at,Bayonne,Hospital,Ce...</td>\n",
       "      <td>2507</td>\n",
       "      <td>{when,patient,arrives,bayonne,hospital,center,...</td>\n",
       "      <td>{when,patient,arrive,bayonne,hospital,center,n...</td>\n",
       "      <td>{\"(hospital,47)\",\"(health,35)\",\"(price,34)\",\"(...</td>\n",
       "      <td>{\"(\\\"Bayonne Hospital Center\\\",LOCATION)\",\"(\\\"...</td>\n",
       "      <td>50.708024</td>\n",
       "    </tr>\n",
       "  </tbody>\n",
       "</table>\n",
       "</div>"
      ],
      "text/plain": [
       "   article_id                                     tokenized_body  word_count  \\\n",
       "0           1  {Story,highlights,Attack,at,the,heart,of,UK,'s...         369   \n",
       "1           2  {(,CNN,),The,perfect,bar,\",\",like,the,perfect,...        3145   \n",
       "2           4  {A,fundraiser,for,the,family,of,the,police,off...         545   \n",
       "3           5  {Seven,Words,the,Feds,Ca,n't,Say,Shortly,after...         756   \n",
       "4           6  {When,a,patient,arrives,at,Bayonne,Hospital,Ce...        2507   \n",
       "\n",
       "                                     stopworded_body  \\\n",
       "0  {story,highlights,attack,heart,uk,capital,late...   \n",
       "1  {cnn,the,perfect,bar,like,perfect,cocktail,car...   \n",
       "2  {a,fundraiser,family,police,officer,killed,wed...   \n",
       "3  {seven,words,feds,ca,n't,say,shortly,donald,tr...   \n",
       "4  {when,patient,arrives,bayonne,hospital,center,...   \n",
       "\n",
       "                                     lemmatized_body  \\\n",
       "0  {story,highlight,attack,heart,uk,capital,lates...   \n",
       "1  {cnn,the,perfect,bar,like,perfect,cocktail,car...   \n",
       "2  {a,fundraiser,family,police,officer,kill,wedne...   \n",
       "3  {seven,word,fed,ca,n't,say,shortly,donald,trum...   \n",
       "4  {when,patient,arrive,bayonne,hospital,center,n...   \n",
       "\n",
       "                                            word_bag  \\\n",
       "0  {\"(attack,8)\",\"(london,5)\",\"(state,4)\",\"(terro...   \n",
       "1  {\"(:,71)\",\"(belfast,57)\",\"(the,47)\",\"(``,46)\",...   \n",
       "2  {\"(“,11)\",\"(palmer,8)\",\"(”,8)\",\"(police,6)\",\"(...   \n",
       "3  {\"(climate,30)\",\"(change,26)\",\"(little,20)\",\"(...   \n",
       "4  {\"(hospital,47)\",\"(health,35)\",\"(price,34)\",\"(...   \n",
       "\n",
       "                                      named_entities  lexical_diversity  \n",
       "0  {\"(UK,LOCATION)\",\"(\\\"Peter Bergen\\\",PERSON)\",\"...          73.423423  \n",
       "1  {\"(\\\"New York\\\",LOCATION)\",\"(\\\"Dead Rabbit Gro...          39.760292  \n",
       "2                                                 {}          63.311688  \n",
       "3  {\"(\\\"Donald Trump\\\",PERSON)\",\"(\\\"Trump Blocks ...          42.710472  \n",
       "4  {\"(\\\"Bayonne Hospital Center\\\",LOCATION)\",\"(\\\"...          50.708024  "
      ]
     },
     "execution_count": 3,
     "metadata": {},
     "output_type": "execute_result"
    }
   ],
   "source": [
    "data.head()"
   ]
  },
  {
   "cell_type": "markdown",
   "metadata": {},
   "source": [
    "## TF IDF outline \n",
    "\n",
    "- list of articles bodies \n",
    "- feed list into function to make a sparse matrix for training\n",
    "- use that with tf-idf stuff above to create a tf-idf transformer \n",
    "- use that to label every individual article with tf-idf vectors in a database table\n"
   ]
  },
  {
   "cell_type": "code",
   "execution_count": 4,
   "metadata": {},
   "outputs": [
    {
     "name": "stdout",
     "output_type": "stream",
     "text": [
      "<class 'pandas.core.frame.DataFrame'>\n",
      "RangeIndex: 5 entries, 0 to 4\n",
      "Data columns (total 8 columns):\n",
      "article_id           5 non-null int64\n",
      "tokenized_body       5 non-null object\n",
      "word_count           5 non-null int64\n",
      "stopworded_body      5 non-null object\n",
      "lemmatized_body      5 non-null object\n",
      "word_bag             5 non-null object\n",
      "named_entities       5 non-null object\n",
      "lexical_diversity    5 non-null float64\n",
      "dtypes: float64(1), int64(2), object(5)\n",
      "memory usage: 400.0+ bytes\n"
     ]
    }
   ],
   "source": [
    "data.info()"
   ]
  },
  {
   "cell_type": "code",
   "execution_count": 5,
   "metadata": {
    "collapsed": true
   },
   "outputs": [],
   "source": [
    "from sklearn.feature_extraction.text import CountVectorizer, TfidfTransformer, TfidfVectorizer\n",
    "\n",
    "# transforms data into tfidf matrix representation\n",
    "vectorizer = TfidfVectorizer(max_df=0.5, max_features=100,\n",
    "                                 min_df=2, use_idf=True)\n"
   ]
  },
  {
   "cell_type": "code",
   "execution_count": 6,
   "metadata": {},
   "outputs": [
    {
     "data": {
      "text/plain": [
       "<5x100 sparse matrix of type '<class 'numpy.float64'>'\n",
       "\twith 200 stored elements in Compressed Sparse Row format>"
      ]
     },
     "execution_count": 6,
     "metadata": {},
     "output_type": "execute_result"
    }
   ],
   "source": [
    "# fit our data (list of article bodies) to a tfidf representation\n",
    "X = vectorizer.fit_transform(data.lemmatized_body)\n",
    "\n",
    "# verify we have a sparse matrix of 100 tfidf features for each article \n",
    "# should be 5*100 sparse matrix\n",
    "X"
   ]
  },
  {
   "cell_type": "code",
   "execution_count": 7,
   "metadata": {
    "collapsed": true
   },
   "outputs": [],
   "source": [
    "from sklearn.cluster import KMeans\n",
    "\n",
    "# How many clusters we want\n",
    "true_k = 4\n",
    "\n",
    "# create the KMeans object with initial settings\n",
    "km = KMeans(n_clusters=true_k, init='k-means++', max_iter=100, n_init=1,\n",
    "                verbose=True)"
   ]
  },
  {
   "cell_type": "code",
   "execution_count": 8,
   "metadata": {},
   "outputs": [
    {
     "name": "stdout",
     "output_type": "stream",
     "text": [
      "Initialization complete\n",
      "Iteration  0, inertia 1.410\n",
      "Iteration  1, inertia 0.705\n",
      "Converged at iteration 1: center shift 0.000000e+00 within tolerance 7.081037e-07\n"
     ]
    },
    {
     "data": {
      "text/plain": [
       "KMeans(algorithm='auto', copy_x=True, init='k-means++', max_iter=100,\n",
       "    n_clusters=4, n_init=1, n_jobs=1, precompute_distances='auto',\n",
       "    random_state=None, tol=0.0001, verbose=True)"
      ]
     },
     "execution_count": 8,
     "metadata": {},
     "output_type": "execute_result"
    }
   ],
   "source": [
    "# fit our tfidf data to the kmeans model\n",
    "km.fit(X)"
   ]
  },
  {
   "cell_type": "code",
   "execution_count": 15,
   "metadata": {},
   "outputs": [
    {
     "data": {
      "text/plain": [
       "['000',\n",
       " '10',\n",
       " '12',\n",
       " '14',\n",
       " '16',\n",
       " '17',\n",
       " '2010',\n",
       " '2016',\n",
       " '28',\n",
       " '30',\n",
       " 'add',\n",
       " 'although',\n",
       " 'area',\n",
       " 'around',\n",
       " 'article',\n",
       " 'become',\n",
       " 'best',\n",
       " 'biggest',\n",
       " 'car',\n",
       " 'cause',\n",
       " 'center',\n",
       " 'chance',\n",
       " 'cnn',\n",
       " 'common',\n",
       " 'data',\n",
       " 'dead',\n",
       " 'every',\n",
       " 'expect',\n",
       " 'explain',\n",
       " 'financial',\n",
       " 'first',\n",
       " 'five',\n",
       " 'friend',\n",
       " 'good',\n",
       " 'government',\n",
       " 'group',\n",
       " 'hard',\n",
       " 'health',\n",
       " 'heart',\n",
       " 'home',\n",
       " 'image',\n",
       " 'include',\n",
       " 'kill',\n",
       " 'like',\n",
       " 'little',\n",
       " 'live',\n",
       " 'local',\n",
       " 'lot',\n",
       " 'make',\n",
       " 'market',\n",
       " 'may',\n",
       " 'mean',\n",
       " 'minute',\n",
       " 'money',\n",
       " 'more',\n",
       " 'much',\n",
       " 'newly',\n",
       " 'night',\n",
       " 'number',\n",
       " 'offer',\n",
       " 'on',\n",
       " 'ordinary',\n",
       " 'pay',\n",
       " 'picture',\n",
       " 'police',\n",
       " 'practice',\n",
       " 'raise',\n",
       " 'reality',\n",
       " 'really',\n",
       " 'reflect',\n",
       " 'right',\n",
       " 'see',\n",
       " 'serve',\n",
       " 'service',\n",
       " 'st',\n",
       " 'start',\n",
       " 'story',\n",
       " 'terror',\n",
       " 'terrorist',\n",
       " 'that',\n",
       " 'there',\n",
       " 'thing',\n",
       " 'think',\n",
       " 'try',\n",
       " 'typically',\n",
       " 'united',\n",
       " 'university',\n",
       " 'up',\n",
       " 'us',\n",
       " 'use',\n",
       " 'want',\n",
       " 'well',\n",
       " 'within',\n",
       " 'without',\n",
       " 'word',\n",
       " 'work',\n",
       " 'world',\n",
       " 'would',\n",
       " 'york',\n",
       " 'young']"
      ]
     },
     "execution_count": 15,
     "metadata": {},
     "output_type": "execute_result"
    }
   ],
   "source": [
    "terms = vectorizer.get_feature_names()\n",
    "order_centroids = km.cluster_centers_.argsort()[:, ::-1]\n",
    "labels = km.labels_\n",
    "\n",
    "order_centroids\n",
    "\n",
    "#for i in range(3):\n",
    "#    for ind in order_centroids[i, :3]:\n",
    "#            print(' %s' % terms[ind], end='')'''\n",
    "terms"
   ]
  },
  {
   "cell_type": "code",
   "execution_count": 10,
   "metadata": {},
   "outputs": [
    {
     "name": "stdout",
     "output_type": "stream",
     "text": [
      "1\n",
      "0\n",
      "1\n",
      "3\n",
      "2\n"
     ]
    }
   ],
   "source": [
    "for l in labels:\n",
    "    print(l)"
   ]
  },
  {
   "cell_type": "code",
   "execution_count": 11,
   "metadata": {
    "collapsed": true
   },
   "outputs": [],
   "source": [
    "tfidf = TfidfVectorizer(max_features=100)\n",
    "X_test = tfidf.fit_transform([data.lemmatized_body[0]])"
   ]
  },
  {
   "cell_type": "code",
   "execution_count": 12,
   "metadata": {},
   "outputs": [
    {
     "data": {
      "text/plain": [
       "array([1], dtype=int32)"
      ]
     },
     "execution_count": 12,
     "metadata": {},
     "output_type": "execute_result"
    }
   ],
   "source": [
    "km.predict(X_test)"
   ]
  }
 ],
 "metadata": {
  "kernelspec": {
   "display_name": "Python 3",
   "language": "python",
   "name": "python3"
  },
  "language_info": {
   "codemirror_mode": {
    "name": "ipython",
    "version": 3
   },
   "file_extension": ".py",
   "mimetype": "text/x-python",
   "name": "python",
   "nbconvert_exporter": "python",
   "pygments_lexer": "ipython3",
   "version": "3.5.2"
  }
 },
 "nbformat": 4,
 "nbformat_minor": 2
}
