{
 "cells": [
  {
   "cell_type": "code",
   "execution_count": 2,
   "metadata": {
    "collapsed": true
   },
   "outputs": [],
   "source": [
    "import pandas as pd\n",
    "import psycopg2\n",
    "from sklearn.externals import joblib\n",
    "import numpy as np\n",
    "import os"
   ]
  },
  {
   "cell_type": "code",
   "execution_count": 3,
   "metadata": {},
   "outputs": [],
   "source": [
    "# this will be used when converted to real script to maintain ID ordering when we cluster and label \n",
    "# just need to change target table \n",
    "\n",
    "conn = psycopg2.connect(\"dbname='cap' user='postgres' host='ec2-52-27-114-159.us-west-2.compute.amazonaws.com' port=9000 password ='secret'\")\n",
    "data = pd.read_sql_query(\"SELECT * FROM nlp_dim ORDER BY id ASC\", conn)\n",
    "\n",
    "# data = pd.read_csv('nlp_dim_1000.csv')"
   ]
  },
  {
   "cell_type": "code",
   "execution_count": 4,
   "metadata": {},
   "outputs": [
    {
     "name": "stdout",
     "output_type": "stream",
     "text": [
      "<class 'pandas.core.frame.DataFrame'>\n",
      "RangeIndex: 1153 entries, 0 to 1152\n",
      "Data columns (total 20 columns):\n",
      "index                 1153 non-null int64\n",
      "site                  1153 non-null object\n",
      "title                 1153 non-null object\n",
      "author                831 non-null object\n",
      "published_on          897 non-null object\n",
      "accessed_on           1153 non-null object\n",
      "url                   1153 non-null object\n",
      "body                  1153 non-null object\n",
      "newspaper_keywords    1153 non-null object\n",
      "newspaper_summary     1153 non-null object\n",
      "id                    1153 non-null int64\n",
      "tokenized_body        1153 non-null object\n",
      "word_count            1153 non-null int64\n",
      "stopworded_body       1153 non-null object\n",
      "lemmatized_body       1153 non-null object\n",
      "word_bag              1153 non-null object\n",
      "named_entities        1153 non-null object\n",
      "lexical_diversity     1153 non-null float64\n",
      "sentiment_score       1153 non-null object\n",
      "binary_sentiment      1153 non-null int64\n",
      "dtypes: float64(1), int64(4), object(15)\n",
      "memory usage: 180.2+ KB\n"
     ]
    }
   ],
   "source": [
    "# data.head()\n",
    "data.info()"
   ]
  },
  {
   "cell_type": "code",
   "execution_count": 5,
   "metadata": {},
   "outputs": [
    {
     "data": {
      "text/plain": [
       "['model/tf_vectorizer_obj.pkl']"
      ]
     },
     "execution_count": 5,
     "metadata": {},
     "output_type": "execute_result"
    }
   ],
   "source": [
    "from sklearn.feature_extraction.text import CountVectorizer, TfidfTransformer, TfidfVectorizer\n",
    "\n",
    "# transforms data into tfidf matrix representation\n",
    "vectorizer = TfidfVectorizer(max_df=0.5, max_features=100,\n",
    "                                 min_df=2, use_idf=True)\n",
    "if not os.path.exists('model'):\n",
    "    os.makedirs('model')\n",
    "\n",
    "joblib.dump(vectorizer, 'model/tf_vectorizer_obj.pkl')"
   ]
  },
  {
   "cell_type": "code",
   "execution_count": 6,
   "metadata": {},
   "outputs": [
    {
     "data": {
      "text/plain": [
       "<1153x100 sparse matrix of type '<class 'numpy.float64'>'\n",
       "\twith 29458 stored elements in Compressed Sparse Row format>"
      ]
     },
     "execution_count": 6,
     "metadata": {},
     "output_type": "execute_result"
    }
   ],
   "source": [
    "# fit our data (list of article bodies) to a tfidf representation\n",
    "X = vectorizer.fit_transform(data.lemmatized_body)\n",
    "\n",
    "# verify we have a sparse matrix of 100 tfidf features for each article \n",
    "# should be 5*100 sparse matrix\n",
    "X"
   ]
  },
  {
   "cell_type": "code",
   "execution_count": 7,
   "metadata": {
    "collapsed": true
   },
   "outputs": [],
   "source": [
    "# Store the data that we have of TFIDF vectors into a file\n",
    "from scipy import sparse"
   ]
  },
  {
   "cell_type": "code",
   "execution_count": 8,
   "metadata": {
    "collapsed": true
   },
   "outputs": [],
   "source": [
    "sparse.save_npz('model/tf_idf.npz', X)"
   ]
  },
  {
   "cell_type": "code",
   "execution_count": 9,
   "metadata": {},
   "outputs": [
    {
     "data": {
      "text/plain": [
       "<1153x100 sparse matrix of type '<class 'numpy.float64'>'\n",
       "\twith 29458 stored elements in Compressed Sparse Row format>"
      ]
     },
     "execution_count": 9,
     "metadata": {},
     "output_type": "execute_result"
    }
   ],
   "source": [
    "y = sparse.load_npz('model/tf_idf.npz')\n",
    "y"
   ]
  },
  {
   "cell_type": "code",
   "execution_count": 10,
   "metadata": {
    "collapsed": true
   },
   "outputs": [],
   "source": [
    "from sklearn.cluster import KMeans\n",
    "\n",
    "# How many clusters we want\n",
    "true_k = 3\n",
    "\n",
    "# create the KMeans object with initial settings\n",
    "km = KMeans(n_clusters=true_k, init='k-means++', max_iter=100, n_init=1,\n",
    "                verbose=True)"
   ]
  },
  {
   "cell_type": "code",
   "execution_count": 11,
   "metadata": {},
   "outputs": [
    {
     "name": "stdout",
     "output_type": "stream",
     "text": [
      "Initialization complete\n",
      "Iteration  0, inertia 1516.255\n",
      "Iteration  1, inertia 859.874\n",
      "Iteration  2, inertia 835.101\n",
      "Iteration  3, inertia 832.455\n",
      "Iteration  4, inertia 816.017\n",
      "Iteration  5, inertia 809.849\n",
      "Iteration  6, inertia 809.801\n",
      "Iteration  7, inertia 809.798\n",
      "Converged at iteration 7: center shift 0.000000e+00 within tolerance 8.069389e-07\n"
     ]
    },
    {
     "data": {
      "text/plain": [
       "KMeans(algorithm='auto', copy_x=True, init='k-means++', max_iter=100,\n",
       "    n_clusters=3, n_init=1, n_jobs=1, precompute_distances='auto',\n",
       "    random_state=None, tol=0.0001, verbose=True)"
      ]
     },
     "execution_count": 11,
     "metadata": {},
     "output_type": "execute_result"
    }
   ],
   "source": [
    "# fit our tfidf data to the kmeans model\n",
    "km.fit(X)"
   ]
  },
  {
   "cell_type": "code",
   "execution_count": 12,
   "metadata": {},
   "outputs": [
    {
     "name": "stdout",
     "output_type": "stream",
     "text": [
      "['20', '2016', '2017', 'and', 'attack', 'au', 'back', 'bar', 'belfast', 'best', 'but', 'caption', 'change', 'city', 'climate', 'come', 'could', 'dans', 'day', 'de', 'dead', 'donald', 'du', 'en', 'et', 'family', 'first', 'for', 'get', 'give', 'go', 'government', 'he', 'hide', 'home', 'house', 'il', 'image', 'in', 'include', 'irish', 'it', 'know', 'la', 'last', 'le', 'leave', 'les', 'like', 'little', 'make', 'march', 'may', 'mcgarry', 'more', 'muldoon', 'new', 'news', 'old', 'people', 'photo', 'police', 'president', 'pub', 'que', 'rabbit', 'report', 'right', 'see', 'show', 'sign', 'state', 'take', 'tell', 'that', 'think', 'this', 'three', 'today', 'trump', 'two', 'u2014', 'u2019', 'u2019s', 'u2019t', 'u201d', 'un', 'up', 'us', 'use', 'want', 'we', 'week', 'well', 'white', 'work', 'world', 'would', 'xe0', 'xe9']\n",
      " trump president climate house white\n",
      "\n",
      " police attack image people would\n",
      "\n",
      " u201d u2019s de sign u2019t\n",
      "\n"
     ]
    }
   ],
   "source": [
    "# Save kmeans model \n",
    "joblib.dump(km, 'model/kmeans_model.pkl')\n",
    "\n",
    "terms = vectorizer.get_feature_names()\n",
    "order_centroids = km.cluster_centers_.argsort()[:, ::-1]\n",
    "labels = km.labels_\n",
    "print(terms)\n",
    "\n",
    "# order_centroids\n",
    "\n",
    "for i in range(3):\n",
    "    for ind in order_centroids[i, :5]:\n",
    "            print(' %s' % terms[ind], end='')\n",
    "    print('\\n')"
   ]
  },
  {
   "cell_type": "code",
   "execution_count": 13,
   "metadata": {},
   "outputs": [
    {
     "name": "stdout",
     "output_type": "stream",
     "text": [
      " trump president climate house white\n",
      "\n",
      " police attack image people would\n",
      "\n",
      " u201d u2019s de sign u2019t\n",
      "\n"
     ]
    }
   ],
   "source": [
    "# compare saved and loaded kmeans\n",
    "kmeans_loaded = joblib.load('model/kmeans_model.pkl')\n",
    "\n",
    "terms = vectorizer.get_feature_names()\n",
    "order_centroids = kmeans_loaded.cluster_centers_.argsort()[:, ::-1]\n",
    "labels = kmeans_loaded.labels_\n",
    "\n",
    "# order_centroids\n",
    "\n",
    "for i in range(3):\n",
    "    for ind in order_centroids[i, :5]:\n",
    "            print(' %s' % terms[ind], end='')\n",
    "    print('\\n')"
   ]
  },
  {
   "cell_type": "code",
   "execution_count": 14,
   "metadata": {
    "collapsed": true
   },
   "outputs": [],
   "source": [
    "# Small test for how we can eventually persist the cluster labels for individual articles\n",
    "# Since the labels attribute is in the order that the sparse matrix was in when it was passed in\n",
    "# We should be able just insert the label value as a dataframe column\n",
    "\n",
    "t = pd.Series(labels)\n",
    "data['cluster_label'] = t\n",
    "# data"
   ]
  },
  {
   "cell_type": "code",
   "execution_count": 15,
   "metadata": {
    "collapsed": true
   },
   "outputs": [],
   "source": [
    "tfidf = TfidfVectorizer(max_features=100)\n",
    "X_test = tfidf.fit_transform([data.lemmatized_body[98]])"
   ]
  },
  {
   "cell_type": "code",
   "execution_count": 16,
   "metadata": {},
   "outputs": [
    {
     "name": "stdout",
     "output_type": "stream",
     "text": [
      "[1]\n"
     ]
    }
   ],
   "source": [
    "z = km.predict(X_test)\n",
    "print(z)"
   ]
  },
  {
   "cell_type": "code",
   "execution_count": null,
   "metadata": {
    "collapsed": true
   },
   "outputs": [],
   "source": []
  }
 ],
 "metadata": {
  "kernelspec": {
   "display_name": "Python 3",
   "language": "python",
   "name": "python3"
  },
  "language_info": {
   "codemirror_mode": {
    "name": "ipython",
    "version": 3
   },
   "file_extension": ".py",
   "mimetype": "text/x-python",
   "name": "python",
   "nbconvert_exporter": "python",
   "pygments_lexer": "ipython3",
   "version": "3.5.2"
  }
 },
 "nbformat": 4,
 "nbformat_minor": 2
}
