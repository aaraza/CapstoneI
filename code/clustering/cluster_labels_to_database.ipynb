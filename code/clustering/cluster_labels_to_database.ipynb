{
 "cells": [
  {
   "cell_type": "code",
   "execution_count": 7,
   "metadata": {
    "collapsed": true
   },
   "outputs": [],
   "source": [
    "import sqlalchemy\n",
    "from sqlalchemy import create_engine, func\n",
    "import pandas"
   ]
  },
  {
   "cell_type": "code",
   "execution_count": 2,
   "metadata": {
    "collapsed": true
   },
   "outputs": [],
   "source": [
    "clusters = {}\n",
    "\n",
    "for x in range(0,15):\n",
    "    clusters[x] = ''"
   ]
  },
  {
   "cell_type": "code",
   "execution_count": 4,
   "metadata": {},
   "outputs": [],
   "source": [
    "clusters[0] = 'Business and Technology'\n",
    "clusters[1] = 'Celebrity News and Gossip'\n",
    "clusters[2] = 'Politics'\n",
    "clusters[3] = 'Donald Trump'\n",
    "clusters[4] = 'Children'\n",
    "clusters[5] = 'Women'\n",
    "clusters[6] = 'Consumer Electronics'\n",
    "clusters[7] = 'Terror'\n",
    "clusters[8] = 'Sports and Competition'\n",
    "clusters[9] = 'Politics'\n",
    "clusters[10] = 'Crime'\n",
    "clusters[11] = 'Foreign Language'\n",
    "clusters[12] = 'Politics'\n",
    "clusters[13] = 'Consumers'\n",
    "clusters[14] = 'Internation Affairs'"
   ]
  },
  {
   "cell_type": "code",
   "execution_count": 8,
   "metadata": {},
   "outputs": [],
   "source": [
    "host = 'ec2-34-215-56-46.us-west-2.compute.amazonaws.com'\n",
    "dbname = 'cap'\n",
    "user = 'postgres'\n",
    "password = 'secret'\n",
    "\n",
    "eng = create_engine('postgresql://' + user + ':' + password + '@' + host + ':9000/' + dbname)"
   ]
  },
  {
   "cell_type": "code",
   "execution_count": 13,
   "metadata": {},
   "outputs": [],
   "source": [
    "meta = sqlalchemy.MetaData()\n",
    "meta.reflect(bind=eng)\n",
    "table = meta.tables['cluster_labels']"
   ]
  },
  {
   "cell_type": "code",
   "execution_count": 15,
   "metadata": {},
   "outputs": [],
   "source": [
    "for key in clusters:\n",
    "    eng.execute(table.insert(), cluster_num=key, cluster_label=clusters[key])"
   ]
  },
  {
   "cell_type": "code",
   "execution_count": null,
   "metadata": {
    "collapsed": true
   },
   "outputs": [],
   "source": []
  }
 ],
 "metadata": {
  "kernelspec": {
   "display_name": "Python 3",
   "language": "python",
   "name": "python3"
  },
  "language_info": {
   "codemirror_mode": {
    "name": "ipython",
    "version": 3
   },
   "file_extension": ".py",
   "mimetype": "text/x-python",
   "name": "python",
   "nbconvert_exporter": "python",
   "pygments_lexer": "ipython3",
   "version": "3.5.2"
  }
 },
 "nbformat": 4,
 "nbformat_minor": 2
}
